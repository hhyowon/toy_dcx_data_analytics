{
 "cells": [
  {
   "cell_type": "markdown",
   "id": "f1361f96-1acc-4c12-b0c1-179fe3c9ef0e",
   "metadata": {},
   "source": [
    "## 푸른세상안과의원(BlueEyeCenter) 리뷰 구글에서\n",
    "- 스마일라식라섹, 노안백내장, 드림렌즈"
   ]
  },
  {
   "cell_type": "code",
   "execution_count": 1,
   "id": "8adad553-4d44-4fbd-8500-068492e8af9a",
   "metadata": {
    "tags": []
   },
   "outputs": [],
   "source": [
    "from selenium import webdriver"
   ]
  },
  {
   "cell_type": "code",
   "execution_count": 2,
   "id": "905a779c-c546-4ca4-9c47-79547d66f7dc",
   "metadata": {
    "tags": []
   },
   "outputs": [],
   "source": [
    "import pandas as pd"
   ]
  },
  {
   "cell_type": "code",
   "execution_count": 3,
   "id": "dad284dd-c9ee-4af5-b620-5d774e741ad1",
   "metadata": {
    "tags": []
   },
   "outputs": [],
   "source": [
    "#open chrome browser\n",
    "options = webdriver.ChromeOptions()\n",
    "options.add_argument(\"--window-size=1560,960\")\n",
    "browser = webdriver.Chrome(executable_path='../../chromedriver.exe', options=options) #webdriver_selenium과 web을 연결해주기위함. "
   ]
  },
  {
   "cell_type": "code",
   "execution_count": 4,
   "id": "6265dce0-82e1-4e04-b8dd-13264a213c6e",
   "metadata": {
    "tags": []
   },
   "outputs": [],
   "source": [
    "# url in address window\n",
    "browser.get('https://www.google.com/search?q=%ED%91%B8%EB%A5%B8%EC%84%B8%EC%83%81%EC%95%88%EA%B3%BC%EC%9D%B8%EC%B2%9C&sca_esv=564238075&biw=1283&bih=821&tbm=lcl&sxsrf=AB5stBgpa9UHUzKxElUOy8pcmUItR49ZsA%3A1694401294025&ei=DoP-ZNGUAcHb-QaI7oC4BQ&ved=0ahUKEwjR0_LZyKGBAxXBbd4KHQg3AFcQ4dUDCAk&uact=5&oq=%ED%91%B8%EB%A5%B8%EC%84%B8%EC%83%81%EC%95%88%EA%B3%BC%EC%9D%B8%EC%B2%9C&gs_lp=Eg1nd3Mtd2l6LWxvY2FsIhjtkbjrpbjshLjsg4HslYjqs7zsnbjsspwyAhAmMgIQJjICECZIpilQqwlY8iZwCHgAkAECmAFroAGWDaoBBDE3LjK4AQPIAQD4AQHCAgQQIxgnwgIFEAAYgATCAgoQABiABBgUGIcCwgIHEAAYigUYQ8ICBBAAGAPCAgsQABiABBixAxiDAcICBxAAGA0YgASIBgE&sclient=gws-wiz-local#rlfi=hd:;si:17075660981150999360,l,ChjtkbjrpbjshLjsg4HslYjqs7zsnbjsspxI1OflheeAgIAIWi8QABABEAIYABgBGAIYAyIb7ZG466W4IOyEuOyDgSDslYjqs7wg7J247LKcKgIIApIBD29waHRoYWxtb2xvZ2lzdKoBRBABMh8QASIbd-9OFehOaJTc2c2DULaHO3By6LkZqZLWtf1DMh8QAiIb7ZG466W4IOyEuOyDgSDslYjqs7wg7J247LKc;mv:[[37.44377917731903,126.70182128533088],[37.44341922268097,126.70136791466909]]')\n",
    "browser.implicitly_wait(10)"
   ]
  },
  {
   "cell_type": "markdown",
   "id": "0cf76343-dbcc-470f-a035-ab54adedc0fc",
   "metadata": {},
   "source": [
    "### 리뷰 클릭"
   ]
  },
  {
   "cell_type": "code",
   "execution_count": 5,
   "id": "bb7cc2c4-2072-4c80-8f51-1cca21fbf7f0",
   "metadata": {
    "tags": []
   },
   "outputs": [],
   "source": [
    "## 리뷰 클릭\n",
    "review_element='div > div:nth-child(1) > div > g-sticky-content-container > div > block-component > div > div.dG2XIf.knowledge-panel.Wnoohf.OJXvsb > div > div > div > div.ifM9O > div > div > div.hjPqT4GkFUQ__expanded > div.AfIYPc > g-sticky-content > div > div.YoOupc.UxY8gd.E0kSRb.xSizI > g-tabs > div > div > a.KYeOtb.rWAMad ' \n",
    "review_list=browser.find_element_by_css_selector(review_element)\n",
    "review_list.click()"
   ]
  },
  {
   "cell_type": "code",
   "execution_count": 6,
   "id": "9949af01-e4e0-4960-8cf0-c215ca9b3e68",
   "metadata": {
    "tags": []
   },
   "outputs": [],
   "source": [
    "import time\n",
    "time.sleep(2)"
   ]
  },
  {
   "cell_type": "code",
   "execution_count": 7,
   "id": "d902431e-53ae-444e-be5b-b8c040d4fd96",
   "metadata": {
    "tags": []
   },
   "outputs": [],
   "source": [
    "## 스크롤를 해야 리뷰가 다 보임_chat에게 물어보기. \n",
    "# 페이지 아래로 스크롤해서 모든 리뷰 로드\n",
    "scroll_pause_time = 10  # 스크롤 간격을 조절할 수 있습니다. 필요에 따라 조정하세요.\n",
    "while True:\n",
    "    # 스크롤 이벤트를 JavaScript로 실행\n",
    "    browser.execute_script(\"window.scrollTo(0, document.body.scrollHeight);\")\n",
    "    time.sleep(scroll_pause_time)\n",
    "\n",
    "    # 스크롤이 더 이상 되지 않을 때 (더 이상 리뷰가 로드되지 않을 때) 반복 종료\n",
    "    if len(browser.find_elements_by_css_selector('#tsuid_BZX-ZKnxJYb-hwP_3Z34BQ_1reviewSort > div')) == 0:\n",
    "        break"
   ]
  },
  {
   "cell_type": "markdown",
   "id": "9877725e-7156-4767-9fe5-2b3a755c1aaf",
   "metadata": {},
   "source": [
    "### 리뷰 내용 가져오기_single\n",
    "- 리뷰묶음: #tsuid_LIT-ZOrbIZPS1e8PttWU0Ak_1reviewSort > div:nth-child(2) > div.gws-localreviews__general-reviews-block > div\n",
    "- div:nth-child(2) > div.gws-localreviews__general-reviews-block > div\n",
    "- 작성자: div.jxjCjc > div:nth-child(1) > div > a\n",
    "- 날짜: #tsuid_LIT-ZOrbIZPS1e8PttWU0Ak_1reviewSort > div:nth-child(2) > div.gws-localreviews__general-reviews-block > div:nth-child(2) > div.jxjCjc > div.gQfZge > div > div:nth-child(1) > div.PuaHbe > span.dehysf.lTi8oc\n",
    "- 내용: #tsuid_LIT-ZOrbIZPS1e8PttWU0Ak_1reviewSort > div:nth-child(2) > div.gws-localreviews__general-reviews-block > div:nth-child(4) > div.jxjCjc > div.gQfZge > div > div:nth-child(1) > div.Jtu6Td > span > span\n",
    "- 별점: #tsuid_LIT-ZOrbIZPS1e8PttWU0Ak_1reviewSort > div:nth-child(2) > div.gws-localreviews__general-reviews-block > div:nth-child(1) > div.jxjCjc > div.gQfZge > div > div:nth-child(1) > div.PuaHbe > span.lTi8oc.z3HNkc\n",
    "- 병원명: #akp_tsuid_11 > div > div:nth-child(1) > div > g-sticky-content-container > div > block-component > div > div.dG2XIf.knowledge-panel.Wnoohf.OJXvsb > div > div > div > div.ifM9O > div > div > div.kp-header > div > div.Hhmu2e.wDYxhc.NFQFxe.viOShc.LKPcQc > div > div > h2 > span\n"
   ]
  },
  {
   "cell_type": "code",
   "execution_count": 8,
   "id": "102c2892-7aa3-4adb-8d97-5107d0d293c2",
   "metadata": {
    "tags": []
   },
   "outputs": [
    {
     "data": {
      "text/plain": [
       "10"
      ]
     },
     "execution_count": 8,
     "metadata": {},
     "output_type": "execute_result"
    }
   ],
   "source": [
    "reviews_bundle = browser.find_elements_by_css_selector('div:nth-child(2) > div.gws-localreviews__general-reviews-block > div')\n",
    "len(reviews_bundle)"
   ]
  },
  {
   "cell_type": "code",
   "execution_count": 25,
   "id": "0124de49-aa11-4972-a065-08c28e59f733",
   "metadata": {
    "tags": []
   },
   "outputs": [],
   "source": [
    "writer = reviews_bundle[1].find_element_by_css_selector(' div.jxjCjc > div:nth-child(1) > div > a').text\n",
    "date = reviews_bundle[1].find_element_by_css_selector(' div.jxjCjc > div.gQfZge > div > div:nth-child(1) > div.PuaHbe > span.dehysf.lTi8oc').text\n",
    "content = reviews_bundle[1].find_element_by_css_selector(' div.jxjCjc > div.gQfZge > div > div:nth-child(1) > div.Jtu6Td').text\n",
    "stars = reviews_bundle[1].find_element_by_css_selector(' div.jxjCjc > div.gQfZge > div > div:nth-child(1) > div.PuaHbe > span.lTi8oc.z3HNkc').get_attribute('aria-label')\n",
    "hospital = browser.find_element_by_css_selector('div > div.Hhmu2e.wDYxhc.NFQFxe.viOShc.LKPcQc > div > div > h2 > span').text"
   ]
  },
  {
   "cell_type": "code",
   "execution_count": 26,
   "id": "c9130c31-23fb-46f2-9f21-2d4c2c6d305f",
   "metadata": {
    "tags": []
   },
   "outputs": [
    {
     "data": {
      "text/plain": [
       "['박혜린',\n",
       " '6달 전',\n",
       " '병원 대기하는 곳은 굉장히 편안하고 수술실은 엄청 깔끔해서 좋았습니다! 검사 기기도 정말 많고 신속하게 검사할 수 있어서 좋았어요ㅎㅎ 스마일라식 겁났는데 수술 전에도 친절하게 설명해주시고 수술 내내 남은 시간 초 세어주시고 해서 성공적으로 수술 된 것 같아요!! 감사합니다',\n",
       " '별 5개 중 5.0개',\n",
       " '푸른세상안과의원 인천본점']"
      ]
     },
     "execution_count": 26,
     "metadata": {},
     "output_type": "execute_result"
    }
   ],
   "source": [
    "[writer, date, content, stars, hospital]"
   ]
  },
  {
   "cell_type": "markdown",
   "id": "0e20643d-e37a-4857-8865-e6f112e0c84e",
   "metadata": {},
   "source": [
    "### looping 돌리기\n",
    "reviews_list = list()\n",
    "for review_bundle in reviews_bundle :\n",
    "    content = review_bundle.find_element_by_css_selector('div.h3YV2d').text ##bundle에서 0번째 가져옴?\n",
    "    date = review_bundle.find_element_by_css_selector('header > div.Jx4nYe > span').text \n",
    "    stars = review_bundle.find_element_by_css_selector('header > div.Jx4nYe > div').get_attribute('aria-label')\n",
    "    review_list = [content, date, stars] # 한개씩 나옴 = record 1개씩 나옴\n",
    "    reviews_list.append(review_list) ## 리뷰에 대한 모든 record들이 담김.\n",
    "    \n",
    "len(reviews_list)"
   ]
  },
  {
   "cell_type": "code",
   "execution_count": 31,
   "id": "cc85d557-7b91-4cc1-b42f-1465e452d5f3",
   "metadata": {
    "tags": []
   },
   "outputs": [],
   "source": [
    "reviews_list = list()"
   ]
  },
  {
   "cell_type": "code",
   "execution_count": 33,
   "id": "b1269ea1-6a0d-4a27-a03f-f380ea2ccb08",
   "metadata": {
    "tags": []
   },
   "outputs": [
    {
     "data": {
      "text/plain": [
       "10"
      ]
     },
     "execution_count": 33,
     "metadata": {},
     "output_type": "execute_result"
    }
   ],
   "source": [
    "for review_bundle in reviews_bundle :\n",
    "    writer = review_bundle.find_element_by_css_selector(' div.jxjCjc > div:nth-child(1) > div > a').text\n",
    "    date = review_bundle.find_element_by_css_selector(' div.jxjCjc > div.gQfZge > div > div:nth-child(1) > div.PuaHbe > span.dehysf.lTi8oc').text\n",
    "    content = review_bundle.find_element_by_css_selector(' div.jxjCjc > div.gQfZge > div > div:nth-child(1) > div.Jtu6Td').text\n",
    "    stars = review_bundle.find_element_by_css_selector(' div.jxjCjc > div.gQfZge > div > div:nth-child(1) > div.PuaHbe > span.lTi8oc.z3HNkc').get_attribute('aria-label')\n",
    "    hospital = browser.find_element_by_css_selector('div > div.Hhmu2e.wDYxhc.NFQFxe.viOShc.LKPcQc > div > div > h2 > span').text\n",
    "    review_list = [writer, date, content, stars, hospital] # 한개씩 나옴 = record 1개씩 나옴\n",
    "    reviews_list.append(review_list) ## 리뷰에 대한 모든 record들이 담김.\n",
    "    \n",
    "len(reviews_list)"
   ]
  },
  {
   "cell_type": "code",
   "execution_count": null,
   "id": "45d70a70-8dc6-4b43-a0af-6e0400492273",
   "metadata": {},
   "outputs": [],
   "source": []
  }
 ],
 "metadata": {
  "kernelspec": {
   "display_name": "Python 3 (ipykernel)",
   "language": "python",
   "name": "python3"
  },
  "language_info": {
   "codemirror_mode": {
    "name": "ipython",
    "version": 3
   },
   "file_extension": ".py",
   "mimetype": "text/x-python",
   "name": "python",
   "nbconvert_exporter": "python",
   "pygments_lexer": "ipython3",
   "version": "3.11.3"
  }
 },
 "nbformat": 4,
 "nbformat_minor": 5
}
