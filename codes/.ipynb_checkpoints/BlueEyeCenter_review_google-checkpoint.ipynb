{
 "cells": [
  {
   "cell_type": "markdown",
   "id": "f1361f96-1acc-4c12-b0c1-179fe3c9ef0e",
   "metadata": {},
   "source": [
<<<<<<< HEAD
    "## 푸른세상안과의원(BlueEyeCenter) 리뷰\n",
=======
    "## 푸른세상안과의원(BlueEyeCenter) 리뷰 구글에서\n",
>>>>>>> bf1c47613f30b66129c1c12dda0d115e33497071
    "- 스마일라식라섹, 노안백내장, 드림렌즈"
   ]
  },
  {
   "cell_type": "code",
   "execution_count": 1,
   "id": "8adad553-4d44-4fbd-8500-068492e8af9a",
   "metadata": {
    "tags": []
   },
   "outputs": [],
   "source": [
    "from selenium import webdriver"
   ]
  },
  {
   "cell_type": "code",
   "execution_count": 2,
   "id": "905a779c-c546-4ca4-9c47-79547d66f7dc",
   "metadata": {
    "tags": []
   },
   "outputs": [],
   "source": [
    "import pandas as pd"
   ]
  },
  {
   "cell_type": "code",
   "execution_count": 3,
   "id": "dad284dd-c9ee-4af5-b620-5d774e741ad1",
   "metadata": {
    "tags": []
   },
   "outputs": [],
   "source": [
    "#open chrome browser\n",
    "options = webdriver.ChromeOptions()\n",
    "options.add_argument(\"--window-size=1560,960\")\n",
    "browser = webdriver.Chrome(executable_path='../../chromedriver.exe', options=options) #webdriver_selenium과 web을 연결해주기위함. "
   ]
  },
  {
   "cell_type": "code",
   "execution_count": 4,
   "id": "6265dce0-82e1-4e04-b8dd-13264a213c6e",
   "metadata": {
    "tags": []
   },
   "outputs": [],
   "source": [
    "# url in address window\n",
<<<<<<< HEAD
    "browser.get('https://lasikok.com/pc/index.php')\n",
=======
    "browser.get('https://www.google.com/search?q=%ED%91%B8%EB%A5%B8%EC%84%B8%EC%83%81%EC%95%88%EA%B3%BC%EC%9D%B8%EC%B2%9C&sca_esv=564238075&biw=1283&bih=821&tbm=lcl&sxsrf=AB5stBgpa9UHUzKxElUOy8pcmUItR49ZsA%3A1694401294025&ei=DoP-ZNGUAcHb-QaI7oC4BQ&ved=0ahUKEwjR0_LZyKGBAxXBbd4KHQg3AFcQ4dUDCAk&uact=5&oq=%ED%91%B8%EB%A5%B8%EC%84%B8%EC%83%81%EC%95%88%EA%B3%BC%EC%9D%B8%EC%B2%9C&gs_lp=Eg1nd3Mtd2l6LWxvY2FsIhjtkbjrpbjshLjsg4HslYjqs7zsnbjsspwyAhAmMgIQJjICECZIpilQqwlY8iZwCHgAkAECmAFroAGWDaoBBDE3LjK4AQPIAQD4AQHCAgQQIxgnwgIFEAAYgATCAgoQABiABBgUGIcCwgIHEAAYigUYQ8ICBBAAGAPCAgsQABiABBixAxiDAcICBxAAGA0YgASIBgE&sclient=gws-wiz-local#rlfi=hd:;si:17075660981150999360,l,ChjtkbjrpbjshLjsg4HslYjqs7zsnbjsspxI1OflheeAgIAIWi8QABABEAIYABgBGAIYAyIb7ZG466W4IOyEuOyDgSDslYjqs7wg7J247LKcKgIIApIBD29waHRoYWxtb2xvZ2lzdKoBRBABMh8QASIbd-9OFehOaJTc2c2DULaHO3By6LkZqZLWtf1DMh8QAiIb7ZG466W4IOyEuOyDgSDslYjqs7wg7J247LKc;mv:[[37.44377917731903,126.70182128533088],[37.44341922268097,126.70136791466909]]')\n",
>>>>>>> bf1c47613f30b66129c1c12dda0d115e33497071
    "browser.implicitly_wait(10)"
   ]
  },
  {
   "cell_type": "markdown",
   "id": "0cf76343-dbcc-470f-a035-ab54adedc0fc",
   "metadata": {},
   "source": [
<<<<<<< HEAD
    "### 로그인하기\n",
    "- 로그인을 해야 수술체험기 볼수있음\n",
    "- 로그인 page : #header > div.header_wrap > div.quick_btn > a\n",
    "- ID:#sub_content > div > form > input:nth-child(1)\n",
    "- 비밀번호:#sub_content > div > form > input:nth-child(2)\n",
    "- 로그인 버튼: #sub_content > div > form > button"
=======
    "### 리뷰 클릭"
>>>>>>> bf1c47613f30b66129c1c12dda0d115e33497071
   ]
  },
  {
   "cell_type": "code",
   "execution_count": 5,
   "id": "bb7cc2c4-2072-4c80-8f51-1cca21fbf7f0",
   "metadata": {
    "tags": []
   },
   "outputs": [],
   "source": [
<<<<<<< HEAD
    "## 로그인 page들어가기\n",
    "login_element='#header > div.header_wrap > div.quick_btn > a' \n",
    "login_button=browser.find_element_by_css_selector(login_element)\n",
    "login_button.click()"
=======
    "## 리뷰 클릭\n",
    "review_element='div > div:nth-child(1) > div > g-sticky-content-container > div > block-component > div > div.dG2XIf.knowledge-panel.Wnoohf.OJXvsb > div > div > div > div.ifM9O > div > div > div.hjPqT4GkFUQ__expanded > div.AfIYPc > g-sticky-content > div > div.YoOupc.UxY8gd.E0kSRb.xSizI > g-tabs > div > div > a.KYeOtb.rWAMad ' \n",
    "review_list=browser.find_element_by_css_selector(review_element)\n",
    "review_list.click()"
>>>>>>> bf1c47613f30b66129c1c12dda0d115e33497071
   ]
  },
  {
   "cell_type": "code",
   "execution_count": 6,
<<<<<<< HEAD
   "id": "c8fddce0-c16d-44b0-bc40-59ea269e589c",
=======
   "id": "9949af01-e4e0-4960-8cf0-c215ca9b3e68",
>>>>>>> bf1c47613f30b66129c1c12dda0d115e33497071
   "metadata": {
    "tags": []
   },
   "outputs": [],
   "source": [
<<<<<<< HEAD
    "# ID 입력\n",
    "id_element = '#sub_content > div > form > input:nth-child(1)'\n",
    "id_input=browser.find_element_by_css_selector(id_element)\n",
    "id_input.send_keys('xkeltm05')"
=======
    "import time\n",
    "time.sleep(2)"
>>>>>>> bf1c47613f30b66129c1c12dda0d115e33497071
   ]
  },
  {
   "cell_type": "code",
   "execution_count": 7,
<<<<<<< HEAD
   "id": "70d45be6-3c33-4a52-94a0-9a5b8ac092f4",
=======
   "id": "d902431e-53ae-444e-be5b-b8c040d4fd96",
>>>>>>> bf1c47613f30b66129c1c12dda0d115e33497071
   "metadata": {
    "tags": []
   },
   "outputs": [],
   "source": [
<<<<<<< HEAD
    "# 비번 입력\n",
    "pw_element = '#sub_content > div > form > input:nth-child(2)'\n",
    "pw_input=browser.find_element_by_css_selector(pw_element)\n",
    "pw_input.send_keys('Tldgk@1070')"
=======
    "## 스크롤를 해야 리뷰가 다 보임_chat에게 물어보기. \n",
    "# 페이지 아래로 스크롤해서 모든 리뷰 로드\n",
    "scroll_pause_time = 10  # 스크롤 간격을 조절할 수 있습니다. 필요에 따라 조정하세요.\n",
    "while True:\n",
    "    # 스크롤 이벤트를 JavaScript로 실행\n",
    "    browser.execute_script(\"window.scrollTo(0, document.body.scrollHeight);\")\n",
    "    time.sleep(scroll_pause_time)\n",
    "\n",
    "    # 스크롤이 더 이상 되지 않을 때 (더 이상 리뷰가 로드되지 않을 때) 반복 종료\n",
    "    if len(browser.find_elements_by_css_selector('#tsuid_BZX-ZKnxJYb-hwP_3Z34BQ_1reviewSort > div')) == 0:\n",
    "        break"
   ]
  },
  {
   "cell_type": "markdown",
   "id": "9877725e-7156-4767-9fe5-2b3a755c1aaf",
   "metadata": {},
   "source": [
    "### 리뷰 내용 가져오기_single\n",
    "- 리뷰묶음: #tsuid_LIT-ZOrbIZPS1e8PttWU0Ak_1reviewSort > div:nth-child(2) > div.gws-localreviews__general-reviews-block > div\n",
    "- div:nth-child(2) > div.gws-localreviews__general-reviews-block > div\n",
    "- 작성자: div.jxjCjc > div:nth-child(1) > div > a\n",
    "- 날짜: #tsuid_LIT-ZOrbIZPS1e8PttWU0Ak_1reviewSort > div:nth-child(2) > div.gws-localreviews__general-reviews-block > div:nth-child(2) > div.jxjCjc > div.gQfZge > div > div:nth-child(1) > div.PuaHbe > span.dehysf.lTi8oc\n",
    "- 내용: #tsuid_LIT-ZOrbIZPS1e8PttWU0Ak_1reviewSort > div:nth-child(2) > div.gws-localreviews__general-reviews-block > div:nth-child(4) > div.jxjCjc > div.gQfZge > div > div:nth-child(1) > div.Jtu6Td > span > span\n",
    "- 별점: #tsuid_LIT-ZOrbIZPS1e8PttWU0Ak_1reviewSort > div:nth-child(2) > div.gws-localreviews__general-reviews-block > div:nth-child(1) > div.jxjCjc > div.gQfZge > div > div:nth-child(1) > div.PuaHbe > span.lTi8oc.z3HNkc\n",
    "- 병원명: #akp_tsuid_11 > div > div:nth-child(1) > div > g-sticky-content-container > div > block-component > div > div.dG2XIf.knowledge-panel.Wnoohf.OJXvsb > div > div > div > div.ifM9O > div > div > div.kp-header > div > div.Hhmu2e.wDYxhc.NFQFxe.viOShc.LKPcQc > div > div > h2 > span\n"
>>>>>>> bf1c47613f30b66129c1c12dda0d115e33497071
   ]
  },
  {
   "cell_type": "code",
   "execution_count": 8,
<<<<<<< HEAD
   "id": "2af77bfa-e9f1-459d-bd16-4dd762004c2c",
=======
   "id": "102c2892-7aa3-4adb-8d97-5107d0d293c2",
   "metadata": {
    "tags": []
   },
   "outputs": [
    {
     "data": {
      "text/plain": [
       "10"
      ]
     },
     "execution_count": 8,
     "metadata": {},
     "output_type": "execute_result"
    }
   ],
   "source": [
    "reviews_bundle = browser.find_elements_by_css_selector('div:nth-child(2) > div.gws-localreviews__general-reviews-block > div')\n",
    "len(reviews_bundle)"
   ]
  },
  {
   "cell_type": "code",
   "execution_count": 25,
   "id": "0124de49-aa11-4972-a065-08c28e59f733",
>>>>>>> bf1c47613f30b66129c1c12dda0d115e33497071
   "metadata": {
    "tags": []
   },
   "outputs": [],
   "source": [
<<<<<<< HEAD
    "# 로그인 버튼 누르기\n",
    "click_element = '#sub_content > div > form > button'\n",
    "browser.find_element_by_css_selector(click_element).click()"
=======
    "writer = reviews_bundle[1].find_element_by_css_selector(' div.jxjCjc > div:nth-child(1) > div > a').text\n",
    "date = reviews_bundle[1].find_element_by_css_selector(' div.jxjCjc > div.gQfZge > div > div:nth-child(1) > div.PuaHbe > span.dehysf.lTi8oc').text\n",
    "content = reviews_bundle[1].find_element_by_css_selector(' div.jxjCjc > div.gQfZge > div > div:nth-child(1) > div.Jtu6Td').text\n",
    "stars = reviews_bundle[1].find_element_by_css_selector(' div.jxjCjc > div.gQfZge > div > div:nth-child(1) > div.PuaHbe > span.lTi8oc.z3HNkc').get_attribute('aria-label')\n",
    "hospital = browser.find_element_by_css_selector('div > div.Hhmu2e.wDYxhc.NFQFxe.viOShc.LKPcQc > div > div > h2 > span').text"
   ]
  },
  {
   "cell_type": "code",
   "execution_count": 26,
   "id": "c9130c31-23fb-46f2-9f21-2d4c2c6d305f",
   "metadata": {
    "tags": []
   },
   "outputs": [
    {
     "data": {
      "text/plain": [
       "['박혜린',\n",
       " '6달 전',\n",
       " '병원 대기하는 곳은 굉장히 편안하고 수술실은 엄청 깔끔해서 좋았습니다! 검사 기기도 정말 많고 신속하게 검사할 수 있어서 좋았어요ㅎㅎ 스마일라식 겁났는데 수술 전에도 친절하게 설명해주시고 수술 내내 남은 시간 초 세어주시고 해서 성공적으로 수술 된 것 같아요!! 감사합니다',\n",
       " '별 5개 중 5.0개',\n",
       " '푸른세상안과의원 인천본점']"
      ]
     },
     "execution_count": 26,
     "metadata": {},
     "output_type": "execute_result"
    }
   ],
   "source": [
    "[writer, date, content, stars, hospital]"
>>>>>>> bf1c47613f30b66129c1c12dda0d115e33497071
   ]
  },
  {
   "cell_type": "markdown",
<<<<<<< HEAD
   "id": "6a51fdd0-a31e-478d-b350-10179e3901d4",
   "metadata": {},
   "source": [
    "### 수술체험기_Click\n",
    "- 메뉴bar 커서 올리면 메뉴가 나타남. 푸른세상이야기 Actionchains?\n",
    "- #header > div.header_wrap > div.menu_wrap > ul > li:nth-child(7)\n",
    "- 하단에 나오는 메뉴 중 수술체험기\n",
    "- #header > div.header_wrap > div.menu_wrap > ul > li:nth-child(7) > div > ul > li:nth-child(1) > a\n",
    "- 그냥 푸른세상이야기 클릭하기\n",
    "- #header > div.header_wrap > div.menu_wrap > ul > li.act > a"
=======
   "id": "0e20643d-e37a-4857-8865-e6f112e0c84e",
   "metadata": {},
   "source": [
    "### looping 돌리기\n",
    "reviews_list = list()\n",
    "for review_bundle in reviews_bundle :\n",
    "    content = review_bundle.find_element_by_css_selector('div.h3YV2d').text ##bundle에서 0번째 가져옴?\n",
    "    date = review_bundle.find_element_by_css_selector('header > div.Jx4nYe > span').text \n",
    "    stars = review_bundle.find_element_by_css_selector('header > div.Jx4nYe > div').get_attribute('aria-label')\n",
    "    review_list = [content, date, stars] # 한개씩 나옴 = record 1개씩 나옴\n",
    "    reviews_list.append(review_list) ## 리뷰에 대한 모든 record들이 담김.\n",
    "    \n",
    "len(reviews_list)"
>>>>>>> bf1c47613f30b66129c1c12dda0d115e33497071
   ]
  },
  {
   "cell_type": "code",
<<<<<<< HEAD
   "execution_count": 13,
   "id": "bbb0bbf3-2d25-45f4-bfd8-454e9b3566e0",
=======
   "execution_count": 31,
   "id": "cc85d557-7b91-4cc1-b42f-1465e452d5f3",
>>>>>>> bf1c47613f30b66129c1c12dda0d115e33497071
   "metadata": {
    "tags": []
   },
   "outputs": [],
   "source": [
<<<<<<< HEAD
    "## Action 객체를 생성해야함. \n",
    "from selenium.webdriver.common.action_chains import ActionChains\n",
    "actions = ActionChains(browser)"
=======
    "reviews_list = list()"
>>>>>>> bf1c47613f30b66129c1c12dda0d115e33497071
   ]
  },
  {
   "cell_type": "code",
<<<<<<< HEAD
   "execution_count": 14,
   "id": "77e26b20-c511-4452-85f0-2a1ca2235749",
   "metadata": {
    "tags": []
   },
   "outputs": [],
   "source": [
    "## 메뉴 상단바 올려서 보기 \n",
    "menu_cursor=browser.find_element_by_css_selector('#header > div.header_wrap > div.menu_wrap > ul > li:nth-child(7)')\n",
    "actions.move_to_element(menu_cursor).perform()"
   ]
  },
  {
   "cell_type": "code",
   "execution_count": 15,
   "id": "be4b27c4-71b1-4384-9ccb-e34397466602",
   "metadata": {
    "tags": []
   },
   "outputs": [],
   "source": [
    "## 푸른세상이야기 click 하기 \n",
    "# review_menu = '- #header > div.header_wrap > div.menu_wrap > ul > li.act > a'\n",
    "# browser.find_element_by_css_selector(review_menu).click"
   ]
  },
  {
   "cell_type": "markdown",
   "id": "22213761-cbba-480c-addf-1c3112c4e844",
   "metadata": {},
   "source": [
    "### 수술체험기_Click\n",
    "- 수술체험기 클릭\n",
    "- #header > div.header_wrap > div.menu_wrap > ul > li:nth-child(7) > div > ul > li:nth-child(1) > a\n",
    "- 고객만을 클릭"
   ]
  },
  {
   "cell_type": "code",
   "execution_count": 16,
   "id": "10dd41dd-f51e-4937-9f91-b3063438aea1",
   "metadata": {
    "tags": []
   },
   "outputs": [],
   "source": [
    "## 수술체험기 클릭\n",
    "click_review='#header > div.header_wrap > div.menu_wrap > ul > li:nth-child(7) > div > ul > li:nth-child(1) > a'\n",
    "browser.find_element_by_css_selector(click_review).click()"
   ]
  },
  {
   "cell_type": "code",
   "execution_count": 17,
   "id": "82866eac-eab3-48a7-b0d0-4bff9234a06a",
   "metadata": {
    "tags": []
   },
   "outputs": [],
   "source": [
    "## 수술체험기-고객 click\n",
    "click_path='#sub_content > div.board_wrap > form > div.board_nav > a:nth-child(3)'\n",
    "browser.find_element_by_css_selector(click_path).click()"
   ]
  },
  {
   "cell_type": "markdown",
   "id": "56ef34df-54d7-4682-985d-b70c345a9b31",
   "metadata": {},
   "source": [
    "### 고객 리뷰의 카테고리 클릭\n",
    "- 스마일라식라섹, 노안백내장, 드림렌즈를 각각 클릭하기\n",
    "- #sub_content > div.board_wrap > form > div.board_nav_menu > a (1, 2, 3)\n",
    "- 스마일라식라섹: div.board_wrap > form > div.board_nav_menu > a:nth-child(1)\n",
    "- 활성화: #sub_content > div.board_wrap > form > div.board_nav_menu > a.on on이 들어감. "
   ]
  },
  {
   "cell_type": "markdown",
   "id": "b0fb45ec-4fbd-41cd-8622-7b574cd9c84a",
   "metadata": {},
   "source": [
    "#### 스마일 라식 라섹 리뷰 다 가져오기\n",
    "- 리뷰 묶음: #sub_content > div.board_wrap > form > ul > li\n",
    "- 내용 tag: \n",
    "- 날짜 tag: X\n",
    "- 별점 tag: X"
=======
   "execution_count": 33,
   "id": "b1269ea1-6a0d-4a27-a03f-f380ea2ccb08",
   "metadata": {
    "tags": []
   },
   "outputs": [
    {
     "data": {
      "text/plain": [
       "10"
      ]
     },
     "execution_count": 33,
     "metadata": {},
     "output_type": "execute_result"
    }
   ],
   "source": [
    "for review_bundle in reviews_bundle :\n",
    "    writer = review_bundle.find_element_by_css_selector(' div.jxjCjc > div:nth-child(1) > div > a').text\n",
    "    date = review_bundle.find_element_by_css_selector(' div.jxjCjc > div.gQfZge > div > div:nth-child(1) > div.PuaHbe > span.dehysf.lTi8oc').text\n",
    "    content = review_bundle.find_element_by_css_selector(' div.jxjCjc > div.gQfZge > div > div:nth-child(1) > div.Jtu6Td').text\n",
    "    stars = review_bundle.find_element_by_css_selector(' div.jxjCjc > div.gQfZge > div > div:nth-child(1) > div.PuaHbe > span.lTi8oc.z3HNkc').get_attribute('aria-label')\n",
    "    hospital = browser.find_element_by_css_selector('div > div.Hhmu2e.wDYxhc.NFQFxe.viOShc.LKPcQc > div > div > h2 > span').text\n",
    "    review_list = [writer, date, content, stars, hospital] # 한개씩 나옴 = record 1개씩 나옴\n",
    "    reviews_list.append(review_list) ## 리뷰에 대한 모든 record들이 담김.\n",
    "    \n",
    "len(reviews_list)"
>>>>>>> bf1c47613f30b66129c1c12dda0d115e33497071
   ]
  },
  {
   "cell_type": "code",
   "execution_count": null,
<<<<<<< HEAD
   "id": "e6638a7c-7f07-496b-ad4c-89001da00aae",
=======
   "id": "45d70a70-8dc6-4b43-a0af-6e0400492273",
>>>>>>> bf1c47613f30b66129c1c12dda0d115e33497071
   "metadata": {},
   "outputs": [],
   "source": []
  }
 ],
 "metadata": {
  "kernelspec": {
   "display_name": "Python 3 (ipykernel)",
   "language": "python",
   "name": "python3"
  },
  "language_info": {
   "codemirror_mode": {
    "name": "ipython",
    "version": 3
   },
   "file_extension": ".py",
   "mimetype": "text/x-python",
   "name": "python",
   "nbconvert_exporter": "python",
   "pygments_lexer": "ipython3",
   "version": "3.11.3"
  }
 },
 "nbformat": 4,
 "nbformat_minor": 5
}
