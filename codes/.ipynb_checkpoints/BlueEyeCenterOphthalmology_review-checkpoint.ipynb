{
 "cells": [
  {
   "cell_type": "markdown",
   "id": "f1361f96-1acc-4c12-b0c1-179fe3c9ef0e",
   "metadata": {},
   "source": [
    "## 푸른세상안과의원(BlueEyeCenter) 리뷰\n",
    "- 스마일라식라섹, 노안백내장, 드림렌즈"
   ]
  },
  {
   "cell_type": "code",
   "execution_count": 10,
   "id": "8adad553-4d44-4fbd-8500-068492e8af9a",
   "metadata": {
    "tags": []
   },
   "outputs": [],
   "source": [
    "from selenium import webdriver"
   ]
  },
  {
   "cell_type": "code",
   "execution_count": 11,
   "id": "905a779c-c546-4ca4-9c47-79547d66f7dc",
   "metadata": {
    "tags": []
   },
   "outputs": [],
   "source": [
    "import pandas as pd"
   ]
  },
  {
   "cell_type": "code",
   "execution_count": 12,
   "id": "dad284dd-c9ee-4af5-b620-5d774e741ad1",
   "metadata": {
    "tags": []
   },
   "outputs": [],
   "source": [
    "#open chrome browser\n",
    "options = webdriver.ChromeOptions()\n",
    "options.add_argument(\"--window-size=1560,840\")\n",
    "browser = webdriver.Chrome(executable_path='../../chromedriver.exe', options=options) #webdriver_selenium과 web을 연결해주기위함. "
   ]
  },
  {
   "cell_type": "code",
   "execution_count": 13,
   "id": "6265dce0-82e1-4e04-b8dd-13264a213c6e",
   "metadata": {
    "tags": []
   },
   "outputs": [],
   "source": [
    "# url in address window\n",
    "browser.get('https://lasikok.com/pc/index.php')\n",
    "browser.implicitly_wait(10)"
   ]
  },
  {
   "cell_type": "markdown",
   "id": "0cf76343-dbcc-470f-a035-ab54adedc0fc",
   "metadata": {},
   "source": [
    "### 로그인하기\n",
    "- 로그인을 해야 수술체험기 볼수있음\n",
    "- 로그인 page : #header > div.header_wrap > div.quick_btn > a\n",
    "- ID:#sub_content > div > form > input:nth-child(1)\n",
    "- 비밀번호:#sub_content > div > form > input:nth-child(2)\n",
    "- 로그인 버튼: #sub_content > div > form > button"
   ]
  },
  {
   "cell_type": "code",
   "execution_count": 14,
   "id": "bb7cc2c4-2072-4c80-8f51-1cca21fbf7f0",
   "metadata": {
    "tags": []
   },
   "outputs": [],
   "source": [
    "## 로그인 page들어가기\n",
    "login_element='#header > div.header_wrap > div.quick_btn > a' \n",
    "login_button=browser.find_element_by_css_selector(login_element)\n",
    "login_button.click()"
   ]
  },
  {
   "cell_type": "code",
   "execution_count": 15,
   "id": "c8fddce0-c16d-44b0-bc40-59ea269e589c",
   "metadata": {
    "tags": []
   },
   "outputs": [],
   "source": [
    "# ID 입력\n",
    "id_element = '#sub_content > div > form > input:nth-child(1)'\n",
    "id_input=browser.find_element_by_css_selector(id_element)\n",
    "id_input.send_keys('xkeltm05')"
   ]
  },
  {
   "cell_type": "code",
   "execution_count": 16,
   "id": "70d45be6-3c33-4a52-94a0-9a5b8ac092f4",
   "metadata": {
    "tags": []
   },
   "outputs": [],
   "source": [
    "# 비번 입력\n",
    "pw_element = '#sub_content > div > form > input:nth-child(2)'\n",
    "pw_input=browser.find_element_by_css_selector(pw_element)\n",
    "pw_input.send_keys('Tldgk@1070')"
   ]
  },
  {
   "cell_type": "code",
   "execution_count": 18,
   "id": "2af77bfa-e9f1-459d-bd16-4dd762004c2c",
   "metadata": {
    "tags": []
   },
   "outputs": [],
   "source": [
    "# 로그인 버튼 누르기\n",
    "click_element = '#sub_content > div > form > button'\n",
    "browser.find_element_by_css_selector(click_element).click()"
   ]
  },
  {
   "cell_type": "markdown",
   "id": "6a51fdd0-a31e-478d-b350-10179e3901d4",
   "metadata": {},
   "source": [
    "### 수술체험기_Click\n",
    "- 메뉴bar 커서 올리면 메뉴가 나타남. 푸른세상이야기\n",
    "- #header > div.header_wrap > div.menu_wrap > ul > li:nth-child(7)\n",
    "- 하단에 나오는 메뉴 중 수술체험기\n",
    "- #header > div.header_wrap > div.menu_wrap > ul > li:nth-child(7) > div > ul > li:nth-child(1) > a"
   ]
  },
  {
   "cell_type": "code",
   "execution_count": 22,
   "id": "77e26b20-c511-4452-85f0-2a1ca2235749",
   "metadata": {
    "tags": []
   },
   "outputs": [
    {
     "ename": "ElementNotInteractableException",
     "evalue": "Message: element not interactable\n  (Session info: chrome=116.0.5845.180)\n",
     "output_type": "error",
     "traceback": [
      "\u001b[1;31m---------------------------------------------------------------------------\u001b[0m",
      "\u001b[1;31mElementNotInteractableException\u001b[0m           Traceback (most recent call last)",
      "Cell \u001b[1;32mIn[22], line 2\u001b[0m\n\u001b[0;32m      1\u001b[0m reviews_element\u001b[38;5;241m=\u001b[39m\u001b[38;5;124m'\u001b[39m\u001b[38;5;124m#header > div.header_wrap > div.menu_wrap > ul > li.act > div > ul > li:nth-child(1) > a > span\u001b[39m\u001b[38;5;124m'\u001b[39m\n\u001b[1;32m----> 2\u001b[0m browser\u001b[38;5;241m.\u001b[39mfind_element_by_css_selector(reviews_element)\u001b[38;5;241m.\u001b[39mclick()\n",
      "File \u001b[1;32m~\\anaconda3\\Lib\\site-packages\\selenium\\webdriver\\remote\\webelement.py:80\u001b[0m, in \u001b[0;36mWebElement.click\u001b[1;34m(self)\u001b[0m\n\u001b[0;32m     78\u001b[0m \u001b[38;5;28;01mdef\u001b[39;00m \u001b[38;5;21mclick\u001b[39m(\u001b[38;5;28mself\u001b[39m):\n\u001b[0;32m     79\u001b[0m \u001b[38;5;250m    \u001b[39m\u001b[38;5;124;03m\"\"\"Clicks the element.\"\"\"\u001b[39;00m\n\u001b[1;32m---> 80\u001b[0m     \u001b[38;5;28mself\u001b[39m\u001b[38;5;241m.\u001b[39m_execute(Command\u001b[38;5;241m.\u001b[39mCLICK_ELEMENT)\n",
      "File \u001b[1;32m~\\anaconda3\\Lib\\site-packages\\selenium\\webdriver\\remote\\webelement.py:633\u001b[0m, in \u001b[0;36mWebElement._execute\u001b[1;34m(self, command, params)\u001b[0m\n\u001b[0;32m    631\u001b[0m     params \u001b[38;5;241m=\u001b[39m {}\n\u001b[0;32m    632\u001b[0m params[\u001b[38;5;124m'\u001b[39m\u001b[38;5;124mid\u001b[39m\u001b[38;5;124m'\u001b[39m] \u001b[38;5;241m=\u001b[39m \u001b[38;5;28mself\u001b[39m\u001b[38;5;241m.\u001b[39m_id\n\u001b[1;32m--> 633\u001b[0m \u001b[38;5;28;01mreturn\u001b[39;00m \u001b[38;5;28mself\u001b[39m\u001b[38;5;241m.\u001b[39m_parent\u001b[38;5;241m.\u001b[39mexecute(command, params)\n",
      "File \u001b[1;32m~\\anaconda3\\Lib\\site-packages\\selenium\\webdriver\\remote\\webdriver.py:321\u001b[0m, in \u001b[0;36mWebDriver.execute\u001b[1;34m(self, driver_command, params)\u001b[0m\n\u001b[0;32m    319\u001b[0m response \u001b[38;5;241m=\u001b[39m \u001b[38;5;28mself\u001b[39m\u001b[38;5;241m.\u001b[39mcommand_executor\u001b[38;5;241m.\u001b[39mexecute(driver_command, params)\n\u001b[0;32m    320\u001b[0m \u001b[38;5;28;01mif\u001b[39;00m response:\n\u001b[1;32m--> 321\u001b[0m     \u001b[38;5;28mself\u001b[39m\u001b[38;5;241m.\u001b[39merror_handler\u001b[38;5;241m.\u001b[39mcheck_response(response)\n\u001b[0;32m    322\u001b[0m     response[\u001b[38;5;124m'\u001b[39m\u001b[38;5;124mvalue\u001b[39m\u001b[38;5;124m'\u001b[39m] \u001b[38;5;241m=\u001b[39m \u001b[38;5;28mself\u001b[39m\u001b[38;5;241m.\u001b[39m_unwrap_value(\n\u001b[0;32m    323\u001b[0m         response\u001b[38;5;241m.\u001b[39mget(\u001b[38;5;124m'\u001b[39m\u001b[38;5;124mvalue\u001b[39m\u001b[38;5;124m'\u001b[39m, \u001b[38;5;28;01mNone\u001b[39;00m))\n\u001b[0;32m    324\u001b[0m     \u001b[38;5;28;01mreturn\u001b[39;00m response\n",
      "File \u001b[1;32m~\\anaconda3\\Lib\\site-packages\\selenium\\webdriver\\remote\\errorhandler.py:242\u001b[0m, in \u001b[0;36mErrorHandler.check_response\u001b[1;34m(self, response)\u001b[0m\n\u001b[0;32m    240\u001b[0m         alert_text \u001b[38;5;241m=\u001b[39m value[\u001b[38;5;124m'\u001b[39m\u001b[38;5;124malert\u001b[39m\u001b[38;5;124m'\u001b[39m]\u001b[38;5;241m.\u001b[39mget(\u001b[38;5;124m'\u001b[39m\u001b[38;5;124mtext\u001b[39m\u001b[38;5;124m'\u001b[39m)\n\u001b[0;32m    241\u001b[0m     \u001b[38;5;28;01mraise\u001b[39;00m exception_class(message, screen, stacktrace, alert_text)\n\u001b[1;32m--> 242\u001b[0m \u001b[38;5;28;01mraise\u001b[39;00m exception_class(message, screen, stacktrace)\n",
      "\u001b[1;31mElementNotInteractableException\u001b[0m: Message: element not interactable\n  (Session info: chrome=116.0.5845.180)\n"
     ]
    }
   ],
   "source": [
    "reviews_element='#header > div.header_wrap > div.menu_wrap > ul > li.act > div > ul > li:nth-child(1) > a > span'\n",
    "browser.find_element_by_css_selector(reviews_element).click()"
   ]
  },
  {
   "cell_type": "markdown",
   "id": "22213761-cbba-480c-addf-1c3112c4e844",
   "metadata": {},
   "source": [
    "### 수술체험기_Click\n",
    "- 고객만을 클릭"
   ]
  },
  {
   "cell_type": "code",
   "execution_count": null,
   "id": "10dd41dd-f51e-4937-9f91-b3063438aea1",
   "metadata": {},
   "outputs": [],
   "source": []
  },
  {
   "cell_type": "code",
   "execution_count": 19,
   "id": "82866eac-eab3-48a7-b0d0-4bff9234a06a",
   "metadata": {
    "tags": []
   },
   "outputs": [
    {
     "ename": "NoSuchElementException",
     "evalue": "Message: no such element: Unable to locate element: {\"method\":\"css selector\",\"selector\":\"#sub_content > div.board_wrap > form > div.board_nav > a:nth-child(3)\"}\n  (Session info: chrome=116.0.5845.180)\n",
     "output_type": "error",
     "traceback": [
      "\u001b[1;31m---------------------------------------------------------------------------\u001b[0m",
      "\u001b[1;31mNoSuchElementException\u001b[0m                    Traceback (most recent call last)",
      "Cell \u001b[1;32mIn[19], line 2\u001b[0m\n\u001b[0;32m      1\u001b[0m click_path\u001b[38;5;241m=\u001b[39m\u001b[38;5;124m'\u001b[39m\u001b[38;5;124m#sub_content > div.board_wrap > form > div.board_nav > a:nth-child(3)\u001b[39m\u001b[38;5;124m'\u001b[39m\n\u001b[1;32m----> 2\u001b[0m browser\u001b[38;5;241m.\u001b[39mfind_element_by_css_selector(click_path)\u001b[38;5;241m.\u001b[39mclick()\n",
      "File \u001b[1;32m~\\anaconda3\\Lib\\site-packages\\selenium\\webdriver\\remote\\webdriver.py:598\u001b[0m, in \u001b[0;36mWebDriver.find_element_by_css_selector\u001b[1;34m(self, css_selector)\u001b[0m\n\u001b[0;32m    582\u001b[0m \u001b[38;5;28;01mdef\u001b[39;00m \u001b[38;5;21mfind_element_by_css_selector\u001b[39m(\u001b[38;5;28mself\u001b[39m, css_selector):\n\u001b[0;32m    583\u001b[0m \u001b[38;5;250m    \u001b[39m\u001b[38;5;124;03m\"\"\"\u001b[39;00m\n\u001b[0;32m    584\u001b[0m \u001b[38;5;124;03m    Finds an element by css selector.\u001b[39;00m\n\u001b[0;32m    585\u001b[0m \n\u001b[1;32m   (...)\u001b[0m\n\u001b[0;32m    596\u001b[0m \u001b[38;5;124;03m        element = driver.find_element_by_css_selector('#foo')\u001b[39;00m\n\u001b[0;32m    597\u001b[0m \u001b[38;5;124;03m    \"\"\"\u001b[39;00m\n\u001b[1;32m--> 598\u001b[0m     \u001b[38;5;28;01mreturn\u001b[39;00m \u001b[38;5;28mself\u001b[39m\u001b[38;5;241m.\u001b[39mfind_element(by\u001b[38;5;241m=\u001b[39mBy\u001b[38;5;241m.\u001b[39mCSS_SELECTOR, value\u001b[38;5;241m=\u001b[39mcss_selector)\n",
      "File \u001b[1;32m~\\anaconda3\\Lib\\site-packages\\selenium\\webdriver\\remote\\webdriver.py:976\u001b[0m, in \u001b[0;36mWebDriver.find_element\u001b[1;34m(self, by, value)\u001b[0m\n\u001b[0;32m    974\u001b[0m         by \u001b[38;5;241m=\u001b[39m By\u001b[38;5;241m.\u001b[39mCSS_SELECTOR\n\u001b[0;32m    975\u001b[0m         value \u001b[38;5;241m=\u001b[39m \u001b[38;5;124m'\u001b[39m\u001b[38;5;124m[name=\u001b[39m\u001b[38;5;124m\"\u001b[39m\u001b[38;5;132;01m%s\u001b[39;00m\u001b[38;5;124m\"\u001b[39m\u001b[38;5;124m]\u001b[39m\u001b[38;5;124m'\u001b[39m \u001b[38;5;241m%\u001b[39m value\n\u001b[1;32m--> 976\u001b[0m \u001b[38;5;28;01mreturn\u001b[39;00m \u001b[38;5;28mself\u001b[39m\u001b[38;5;241m.\u001b[39mexecute(Command\u001b[38;5;241m.\u001b[39mFIND_ELEMENT, {\n\u001b[0;32m    977\u001b[0m     \u001b[38;5;124m'\u001b[39m\u001b[38;5;124musing\u001b[39m\u001b[38;5;124m'\u001b[39m: by,\n\u001b[0;32m    978\u001b[0m     \u001b[38;5;124m'\u001b[39m\u001b[38;5;124mvalue\u001b[39m\u001b[38;5;124m'\u001b[39m: value})[\u001b[38;5;124m'\u001b[39m\u001b[38;5;124mvalue\u001b[39m\u001b[38;5;124m'\u001b[39m]\n",
      "File \u001b[1;32m~\\anaconda3\\Lib\\site-packages\\selenium\\webdriver\\remote\\webdriver.py:321\u001b[0m, in \u001b[0;36mWebDriver.execute\u001b[1;34m(self, driver_command, params)\u001b[0m\n\u001b[0;32m    319\u001b[0m response \u001b[38;5;241m=\u001b[39m \u001b[38;5;28mself\u001b[39m\u001b[38;5;241m.\u001b[39mcommand_executor\u001b[38;5;241m.\u001b[39mexecute(driver_command, params)\n\u001b[0;32m    320\u001b[0m \u001b[38;5;28;01mif\u001b[39;00m response:\n\u001b[1;32m--> 321\u001b[0m     \u001b[38;5;28mself\u001b[39m\u001b[38;5;241m.\u001b[39merror_handler\u001b[38;5;241m.\u001b[39mcheck_response(response)\n\u001b[0;32m    322\u001b[0m     response[\u001b[38;5;124m'\u001b[39m\u001b[38;5;124mvalue\u001b[39m\u001b[38;5;124m'\u001b[39m] \u001b[38;5;241m=\u001b[39m \u001b[38;5;28mself\u001b[39m\u001b[38;5;241m.\u001b[39m_unwrap_value(\n\u001b[0;32m    323\u001b[0m         response\u001b[38;5;241m.\u001b[39mget(\u001b[38;5;124m'\u001b[39m\u001b[38;5;124mvalue\u001b[39m\u001b[38;5;124m'\u001b[39m, \u001b[38;5;28;01mNone\u001b[39;00m))\n\u001b[0;32m    324\u001b[0m     \u001b[38;5;28;01mreturn\u001b[39;00m response\n",
      "File \u001b[1;32m~\\anaconda3\\Lib\\site-packages\\selenium\\webdriver\\remote\\errorhandler.py:242\u001b[0m, in \u001b[0;36mErrorHandler.check_response\u001b[1;34m(self, response)\u001b[0m\n\u001b[0;32m    240\u001b[0m         alert_text \u001b[38;5;241m=\u001b[39m value[\u001b[38;5;124m'\u001b[39m\u001b[38;5;124malert\u001b[39m\u001b[38;5;124m'\u001b[39m]\u001b[38;5;241m.\u001b[39mget(\u001b[38;5;124m'\u001b[39m\u001b[38;5;124mtext\u001b[39m\u001b[38;5;124m'\u001b[39m)\n\u001b[0;32m    241\u001b[0m     \u001b[38;5;28;01mraise\u001b[39;00m exception_class(message, screen, stacktrace, alert_text)\n\u001b[1;32m--> 242\u001b[0m \u001b[38;5;28;01mraise\u001b[39;00m exception_class(message, screen, stacktrace)\n",
      "\u001b[1;31mNoSuchElementException\u001b[0m: Message: no such element: Unable to locate element: {\"method\":\"css selector\",\"selector\":\"#sub_content > div.board_wrap > form > div.board_nav > a:nth-child(3)\"}\n  (Session info: chrome=116.0.5845.180)\n"
     ]
    }
   ],
   "source": [
    "click_path='#sub_content > div.board_wrap > form > div.board_nav > a:nth-child(3)'\n",
    "browser.find_element_by_css_selector(click_path).click()"
   ]
  },
  {
   "cell_type": "markdown",
   "id": "56ef34df-54d7-4682-985d-b70c345a9b31",
   "metadata": {},
   "source": [
    "### 고객 리뷰의 카테고리 클릭\n",
    "- 스마일라식라섹, 노안백내장, 드림렌즈를 각각 클릭하기\n",
    "- #sub_content > div.board_wrap > form > div.board_nav_menu > a"
   ]
  },
  {
   "cell_type": "code",
   "execution_count": null,
   "id": "0ac1d8ef-8b9e-47ae-9f1c-f7d26553d4f4",
   "metadata": {},
   "outputs": [],
   "source": []
  }
 ],
 "metadata": {
  "kernelspec": {
   "display_name": "Python 3 (ipykernel)",
   "language": "python",
   "name": "python3"
  },
  "language_info": {
   "codemirror_mode": {
    "name": "ipython",
    "version": 3
   },
   "file_extension": ".py",
   "mimetype": "text/x-python",
   "name": "python",
   "nbconvert_exporter": "python",
   "pygments_lexer": "ipython3",
   "version": "3.11.3"
  }
 },
 "nbformat": 4,
 "nbformat_minor": 5
}
