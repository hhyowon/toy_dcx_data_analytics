{
 "cells": [
  {
   "cell_type": "markdown",
   "id": "f1361f96-1acc-4c12-b0c1-179fe3c9ef0e",
   "metadata": {},
   "source": [
    "## 푸른세상안과의원(BlueEyeCenter) 리뷰\n",
    "- 스마일라식라섹, 노안백내장, 드림렌즈"
   ]
  },
  {
   "cell_type": "code",
   "execution_count": 1,
   "id": "8adad553-4d44-4fbd-8500-068492e8af9a",
   "metadata": {
    "tags": []
   },
   "outputs": [],
   "source": [
    "from selenium import webdriver"
   ]
  },
  {
   "cell_type": "code",
   "execution_count": 2,
   "id": "905a779c-c546-4ca4-9c47-79547d66f7dc",
   "metadata": {
    "tags": []
   },
   "outputs": [],
   "source": [
    "import pandas as pd"
   ]
  },
  {
   "cell_type": "code",
   "execution_count": 3,
   "id": "dad284dd-c9ee-4af5-b620-5d774e741ad1",
   "metadata": {
    "tags": []
   },
   "outputs": [],
   "source": [
    "#open chrome browser\n",
    "options = webdriver.ChromeOptions()\n",
    "options.add_argument(\"--window-size=1560,960\")\n",
    "browser = webdriver.Chrome(executable_path='../../chromedriver.exe', options=options) #webdriver_selenium과 web을 연결해주기위함. "
   ]
  },
  {
   "cell_type": "code",
   "execution_count": 4,
   "id": "6265dce0-82e1-4e04-b8dd-13264a213c6e",
   "metadata": {
    "tags": []
   },
   "outputs": [],
   "source": [
    "# url in address window\n",
    "browser.get('https://lasikok.com/pc/index.php')\n",
    "browser.implicitly_wait(10)"
   ]
  },
  {
   "cell_type": "markdown",
   "id": "0cf76343-dbcc-470f-a035-ab54adedc0fc",
   "metadata": {},
   "source": [
    "### 로그인하기\n",
    "- 로그인을 해야 수술체험기 볼수있음\n",
    "- 로그인 page : #header > div.header_wrap > div.quick_btn > a\n",
    "- ID:#sub_content > div > form > input:nth-child(1)\n",
    "- 비밀번호:#sub_content > div > form > input:nth-child(2)\n",
    "- 로그인 버튼: #sub_content > div > form > button"
   ]
  },
  {
   "cell_type": "code",
   "execution_count": 5,
   "id": "bb7cc2c4-2072-4c80-8f51-1cca21fbf7f0",
   "metadata": {
    "tags": []
   },
   "outputs": [],
   "source": [
    "## 로그인 page들어가기\n",
    "login_element='#header > div.header_wrap > div.quick_btn > a' \n",
    "login_button=browser.find_element_by_css_selector(login_element)\n",
    "login_button.click()"
   ]
  },
  {
   "cell_type": "code",
   "execution_count": 6,
   "id": "c8fddce0-c16d-44b0-bc40-59ea269e589c",
   "metadata": {
    "tags": []
   },
   "outputs": [],
   "source": [
    "# ID 입력\n",
    "id_element = '#sub_content > div > form > input:nth-child(1)'\n",
    "id_input=browser.find_element_by_css_selector(id_element)\n",
    "id_input.send_keys('xkeltm05')"
   ]
  },
  {
   "cell_type": "code",
   "execution_count": 7,
   "id": "70d45be6-3c33-4a52-94a0-9a5b8ac092f4",
   "metadata": {
    "tags": []
   },
   "outputs": [],
   "source": [
    "# 비번 입력\n",
    "pw_element = '#sub_content > div > form > input:nth-child(2)'\n",
    "pw_input=browser.find_element_by_css_selector(pw_element)\n",
    "pw_input.send_keys('Tldgk@1070')"
   ]
  },
  {
   "cell_type": "code",
   "execution_count": 8,
   "id": "2af77bfa-e9f1-459d-bd16-4dd762004c2c",
   "metadata": {
    "tags": []
   },
   "outputs": [],
   "source": [
    "# 로그인 버튼 누르기\n",
    "click_element = '#sub_content > div > form > button'\n",
    "browser.find_element_by_css_selector(click_element).click()"
   ]
  },
  {
   "cell_type": "markdown",
   "id": "6a51fdd0-a31e-478d-b350-10179e3901d4",
   "metadata": {},
   "source": [
    "### 수술체험기_Click\n",
    "- 메뉴bar 커서 올리면 메뉴가 나타남. 푸른세상이야기 Actionchains?\n",
    "- #header > div.header_wrap > div.menu_wrap > ul > li:nth-child(7)\n",
    "- 하단에 나오는 메뉴 중 수술체험기\n",
    "- #header > div.header_wrap > div.menu_wrap > ul > li:nth-child(7) > div > ul > li:nth-child(1) > a\n",
    "- 그냥 푸른세상이야기 클릭하기\n",
    "- #header > div.header_wrap > div.menu_wrap > ul > li.act > a"
   ]
  },
  {
   "cell_type": "code",
   "execution_count": 13,
   "id": "bbb0bbf3-2d25-45f4-bfd8-454e9b3566e0",
   "metadata": {
    "tags": []
   },
   "outputs": [],
   "source": [
    "## Action 객체를 생성해야함. \n",
    "from selenium.webdriver.common.action_chains import ActionChains\n",
    "actions = ActionChains(browser)"
   ]
  },
  {
   "cell_type": "code",
   "execution_count": 14,
   "id": "77e26b20-c511-4452-85f0-2a1ca2235749",
   "metadata": {
    "tags": []
   },
   "outputs": [],
   "source": [
    "## 메뉴 상단바 올려서 보기 \n",
    "menu_cursor=browser.find_element_by_css_selector('#header > div.header_wrap > div.menu_wrap > ul > li:nth-child(7)')\n",
    "actions.move_to_element(menu_cursor).perform()"
   ]
  },
  {
   "cell_type": "code",
   "execution_count": 15,
   "id": "be4b27c4-71b1-4384-9ccb-e34397466602",
   "metadata": {
    "tags": []
   },
   "outputs": [],
   "source": [
    "## 푸른세상이야기 click 하기 \n",
    "# review_menu = '- #header > div.header_wrap > div.menu_wrap > ul > li.act > a'\n",
    "# browser.find_element_by_css_selector(review_menu).click"
   ]
  },
  {
   "cell_type": "markdown",
   "id": "22213761-cbba-480c-addf-1c3112c4e844",
   "metadata": {},
   "source": [
    "### 수술체험기_Click\n",
    "- 수술체험기 클릭\n",
    "- #header > div.header_wrap > div.menu_wrap > ul > li:nth-child(7) > div > ul > li:nth-child(1) > a\n",
    "- 고객만을 클릭"
   ]
  },
  {
   "cell_type": "code",
   "execution_count": 16,
   "id": "10dd41dd-f51e-4937-9f91-b3063438aea1",
   "metadata": {
    "tags": []
   },
   "outputs": [],
   "source": [
    "## 수술체험기 클릭\n",
    "click_review='#header > div.header_wrap > div.menu_wrap > ul > li:nth-child(7) > div > ul > li:nth-child(1) > a'\n",
    "browser.find_element_by_css_selector(click_review).click()"
   ]
  },
  {
   "cell_type": "code",
   "execution_count": 17,
   "id": "82866eac-eab3-48a7-b0d0-4bff9234a06a",
   "metadata": {
    "tags": []
   },
   "outputs": [],
   "source": [
    "## 수술체험기-고객 click\n",
    "click_path='#sub_content > div.board_wrap > form > div.board_nav > a:nth-child(3)'\n",
    "browser.find_element_by_css_selector(click_path).click()"
   ]
  },
  {
   "cell_type": "markdown",
   "id": "56ef34df-54d7-4682-985d-b70c345a9b31",
   "metadata": {},
   "source": [
    "### 고객 리뷰의 카테고리 클릭\n",
    "- 스마일라식라섹, 노안백내장, 드림렌즈를 각각 클릭하기\n",
    "- #sub_content > div.board_wrap > form > div.board_nav_menu > a (1, 2, 3)\n",
    "- 스마일라식라섹: div.board_wrap > form > div.board_nav_menu > a:nth-child(1)\n",
    "- 활성화: #sub_content > div.board_wrap > form > div.board_nav_menu > a.on on이 들어감. "
   ]
  },
  {
   "cell_type": "markdown",
   "id": "b0fb45ec-4fbd-41cd-8622-7b574cd9c84a",
   "metadata": {},
   "source": [
    "#### 스마일 라식 라섹 리뷰 다 가져오기\n",
    "- 리뷰 묶음: #sub_content > div.board_wrap > form > ul > li\n",
    "- 내용 tag: \n",
    "- 날짜 tag: X\n",
    "- 별점 tag: X"
   ]
  },
  {
   "cell_type": "code",
   "execution_count": null,
   "id": "e6638a7c-7f07-496b-ad4c-89001da00aae",
   "metadata": {},
   "outputs": [],
   "source": []
  }
 ],
 "metadata": {
  "kernelspec": {
   "display_name": "Python 3 (ipykernel)",
   "language": "python",
   "name": "python3"
  },
  "language_info": {
   "codemirror_mode": {
    "name": "ipython",
    "version": 3
   },
   "file_extension": ".py",
   "mimetype": "text/x-python",
   "name": "python",
   "nbconvert_exporter": "python",
   "pygments_lexer": "ipython3",
   "version": "3.11.3"
  }
 },
 "nbformat": 4,
 "nbformat_minor": 5
}
