{
 "cells": [
  {
   "cell_type": "markdown",
   "id": "a4eed0cf-872f-451f-9686-c8a884f3717d",
   "metadata": {
    "tags": []
   },
   "source": [
    "## Eye Review 홈페이지에서 안과 리뷰 스크래핑 하기\n",
    "- toy_dcx_data_analytics (git)\n",
    "- 환자 페인 포인트 찾기\n",
    "- 댓글 최소 1천건 이상(스크래핑 사이트 3개 이상)\n",
    "- DB 컬럼 : 작성자, 작성일, 내용, 별점\n",
    "- 스마일라식,라식,라섹,노안백내장,안내렌즈삽입술,망막,녹내장,안구건조증,기타"
   ]
  },
  {
   "cell_type": "markdown",
   "id": "de24ee59-36a3-4eea-97d5-9e5d84ceb8c4",
   "metadata": {
    "tags": []
   },
   "source": [
    "### chorme browser open \n",
    "- 아이리뷰 :  https://xn--oy2b21f01h9lc.com/"
   ]
  },
  {
   "cell_type": "code",
   "execution_count": 1,
   "id": "dd91d561-517d-4bcd-aaf2-640a9c2cb6c0",
   "metadata": {
    "tags": []
   },
   "outputs": [],
   "source": [
    "from selenium import webdriver\n",
    "import pandas as pd"
   ]
  },
  {
   "cell_type": "code",
   "execution_count": 2,
   "id": "f3dd563f-81a9-42bf-9ae3-bde47dc19ffe",
   "metadata": {
    "tags": []
   },
   "outputs": [],
   "source": [
    "options = webdriver.ChromeOptions()\n",
    "options.add_argument(\"--window-size=1560,840\")\n",
    "browser = webdriver.Chrome(executable_path='../../chromedriver.exe', options=options) #webdriver_selenium과 web을 연결해주기위함. \n",
    "browser.get('https://xn--oy2b21f01h9lc.com/')\n",
    "browser.implicitly_wait(10)"
   ]
  },
  {
   "cell_type": "markdown",
   "id": "bb1bd73c-785b-414e-bd5c-1d724930ca32",
   "metadata": {
    "tags": []
   },
   "source": [
    "### Login\n",
    "- 로그인 버튼 클릭 tag : div.row.row--small.user-menu.align-center.justify-center > div:nth-child(1)\n",
    "- user_email tag : #input-3127\n",
    "- password tag : #input-1571\n",
    "- submit button tag :div.login-row.login-row--submit.mt-16.mt-md-20 > button"
   ]
  },
  {
   "cell_type": "code",
   "execution_count": 3,
   "id": "26d66a9e-5466-4b18-855b-8dbf6a0a572f",
   "metadata": {
    "tags": []
   },
   "outputs": [],
   "source": [
    "browser.find_element_by_css_selector('div.row.row--small.user-menu.align-center.justify-center > div:nth-child(1)').click()"
   ]
  },
  {
   "cell_type": "code",
   "execution_count": 6,
   "id": "17196577-b5aa-4bc7-8ae6-150017e30793",
   "metadata": {
    "tags": []
   },
   "outputs": [],
   "source": [
    "browser.find_element_by_css_selector('#input-1680').send_keys('circle0605@naver.com')\n",
    "browser.find_element_by_css_selector('#input-1681').send_keys('507303')"
   ]
  },
  {
   "cell_type": "code",
   "execution_count": 7,
   "id": "ed0a6c71-5dce-48d4-aead-2a165d921098",
   "metadata": {
    "tags": []
   },
   "outputs": [],
   "source": [
    "browser.find_element_by_css_selector('div.login-row.login-row--submit.mt-16.mt-md-20 > button').click()"
   ]
  },
  {
   "cell_type": "markdown",
   "id": "1e32d9b9-e8e3-4263-a8a7-a6bfea633cb3",
   "metadata": {
    "tags": []
   },
   "source": [
    "### 안과후기 리뷰 보기\n",
    "- 안과후기tag : div.header__gnb.justify-center > ul > li:nth-child(2)\n",
    "- 더보기 tag : div.mt-40.mt-md-70 > div > button"
   ]
  },
  {
   "cell_type": "code",
   "execution_count": 8,
   "id": "ea1392d4-fae9-4c71-bc82-f12d992dd892",
   "metadata": {
    "tags": []
   },
   "outputs": [],
   "source": [
    "browser.find_element_by_css_selector('div.header__gnb.justify-center > ul > li:nth-child(2)').click()"
   ]
  },
  {
   "cell_type": "code",
   "execution_count": null,
   "id": "51b24ca5-6e49-469d-be53-469dc2bce21c",
   "metadata": {
    "tags": []
   },
   "outputs": [],
   "source": [
    "# browser.find_element_by_css_selector('div.mt-40.mt-md-70 > div > button').click() #리뷰더보기 검토"
   ]
  },
  {
   "cell_type": "code",
   "execution_count": 9,
   "id": "6e634e3e-4398-4336-aa10-eefd06d4ed9a",
   "metadata": {
    "tags": []
   },
   "outputs": [],
   "source": [
    "# 리뷰 전체 더보기 : 예외가 발생할 때까지 계속해서 버튼을 클릭(추가 더보기 없을때)\n",
    "while True :\n",
    "    try :\n",
    "        browser.find_element_by_css_selector('div.mt-40.mt-md-70 > div > button').click()\n",
    "    except :\n",
    "        break"
   ]
  },
  {
   "cell_type": "markdown",
   "id": "6ce851fe-733a-4358-9653-b91edf206b91",
   "metadata": {
    "tags": []
   },
   "source": [
    "### 리뷰 내용 가져오기_Single\n",
    "- 작성자, (작성일), 내용, 별점 , 병원명\n",
    "   - 해당 사이트에는 작성일이 게시되어 있지 않아 가져오지 못함\n",
    "- 작성자 tag : .font-size-12.font-size-md-14.grey-a--text.ml-6\n",
    "- 작성내용 tag :  a > div.v-card__text.d-flex.flex-column.px-16.py-20.px-md-26.py-md-36 > div.row.no-gutters.justify-space-between > div > div.d-flex.flex-column.v-card--default__content > div:nth-child(2) > div > div.col.content-area-before-text > div\n",
    "- 별점 tag : \n",
    "- 병원명 tag : div.pt-8.pt-md-14.mt-auto.mb-n4 > div > div:nth-child(1) > a > span"
   ]
  },
  {
   "cell_type": "code",
   "execution_count": 24,
   "id": "8fe05c3b-5acf-41f5-8563-279e37902ea5",
   "metadata": {
    "tags": []
   },
   "outputs": [
    {
     "data": {
      "text/plain": [
       "593"
      ]
     },
     "execution_count": 24,
     "metadata": {},
     "output_type": "execute_result"
    }
   ],
   "source": [
    "reviews_bundle = browser.find_elements_by_css_selector('#contents > div.container > div:nth-child(4) > div > div')\n",
    "len(reviews_bundle)"
   ]
  },
  {
   "cell_type": "code",
   "execution_count": 26,
   "id": "c29966da-56be-46c4-b86b-1f0c272e8af4",
   "metadata": {
    "tags": []
   },
   "outputs": [],
   "source": [
    "review_author = reviews_bundle[1].find_element_by_css_selector('.font-size-12.font-size-md-14.grey-a--text.ml-6').text\n",
    "review_content = reviews_bundle[1].find_element_by_css_selector('a > div.v-card__text.d-flex.flex-column.px-16.py-20.px-md-26.py-md-36 > div.row.no-gutters.justify-space-between > div > div.d-flex.flex-column.v-card--default__content > div:nth-child(2) > div > div.col.content-area-before-text > div').text\n",
    "review_hospital = reviews_bundle[1].find_element_by_css_selector('div.pt-8.pt-md-14.mt-auto.mb-n4 > div > div:nth-child(1) > a > span').text"
   ]
  },
  {
   "cell_type": "code",
   "execution_count": 12,
   "id": "7774c347-2e72-47de-b000-a290c7f972cc",
   "metadata": {
    "tags": []
   },
   "outputs": [
    {
     "data": {
      "text/plain": [
       "['각막의 날다람쥐님',\n",
       " '1. 수술 당일\\n수술 당일이다. 아침 일찍 일어나서 수술 당일 필요한 물품을 챙겼다.\\n선글라스, 챙이 달린 모자, 여분의 인공눈물 등이었다.\\n사실 별 준비물은 없다. 핸드폰과 카드를 챙기고 집을 나섰다.\\n\\n수술은 12시였는데, 11시까지 병원에 오라고 해서 11시 조금 전에 도착.\\n병원에 도착하니 간단하게 시력검사 및 몇가지 검사를 진행하고\\n수술 전 투약해야 할 안약을 받았다. 보니까 소염제와 항생제 등인 것 같았다.\\n\\n안약을 넣고 잠시 기다리니 들어오라고 한다.\\n핸드폰을 포함한 모든 물품은 사물함에 보관한다.\\n따라 오라는 간호사의 말에 얼결에 쓰고 있던 안경을 쓰고 들어갔다.\\n\"안경도 벗으세요\"라는 말에, 드디어 안경을 벗는 날이 왔다는 것을 실감했다.\\n\\n수술 대기실에 들어가니 몇명이 앉아 있었다.\\n조금 불안했지만 잠깐 앉아 있으니 수술실 안으로 들어오라고 한다.\\n간호사가 내 손목을 계속 잡고 안내해줬다.\\n시력이 낮아 어리버리할까봐 손목을 잡고 끌어주는 것 같다.\\n\\n어깨 너머로 보니 수술방에 한 젊은 남자가 누워 수술을 받고 있는데\\n그 장면이 수술대 위 모니터 화면에 다 보였다.\\n눈을 고정하고, 안약 넣고, 한꺼풀 벗기는 것 같았다.\\n그리고 또 뭐 뿌리고. 양쪽을 반복하더니 금방 끝났다.\\n음, 저렇게 하는 거로군. 별 거 아니네 싶었다.\\n\\n그래도 가족이나 친구 중에 시간이 되는 사람이 있다면 동행하는게 좋을 것 같다.\\n나는 그냥 혼자 택시타고 집에 잘 왔지만, 집에 온 후 1시간 정도 후부터\\n강렬한 눈부심과 눈시림이 시작됐기 때문에 집이 멀다면 더더욱.\\n\\n2. 수술 2일차\\n다행히 잘잤다. 듣기로는 아파서 잠을 설치기도 한다는데 다행이다.\\n일어나자마자 병원의 안내에 따라 안약을 넣기 시작했다.\\n\\n소염제를 제일 먼저, 3분 후 항생제, 그리고 몇 분 후 진통제를 넣었다.\\n그리고 마지막으로 인공눈물을 넣었다.\\n\\n소염제는 하루에 한 번, 항생제는 3시간에 한 번,\\n진통제는 2일차까지 3시간에 한 번,\\n인공눈물은 그냥 생각날 때마다 수시로 넣는다.\\n\\n진통제는 2일차 오전에 다 써버리고 말았다. 너무 넣었나?\\n눈부심과 눈시림, 이물감은 상당하다.\\n\\n선글라스를 끼고 있는데 작은 불빛에도 고개를 들 수 없을 정도로 눈이 부시다.\\n그래도 눈시림과 이물감은 참을만했다.\\n사람마다 통증의 정도가 다르다는데 운이 좋은 걸까?\\n\\n입맛이 없어 그냥 빵과 김밥으로 끼니는 대충 떼웠다.\\n몸의 주요부위가 불편하니 배고픔도 크게 느껴지지 않는다.\\n그리고 계속 자다 깨다를 반복해서 몇시인지도 잘 모르겠다.\\n\\n3. 수술 3일차\\n어제와 마찬가지로 눈이 시리고 눈이 부시다.\\n조금 더 나아지진 않을까 기대도 했었지만 사실 별로 나아진 것 같지 않다.\\n첫날 저녁, 둘째날이 눈시림, 눈부심이 100이었다면 3일차는 90~95 정도 되려나?\\n그냥 거의 비슷하다. 3일차도 그냥 어두운 방에서 누워서 지냈다.\\n\\n4. 수술 4일차\\n자고 일어나니 확연히 좋아졌음을 느꼈다.\\n눈부심, 어제와 비교해서 절반 정도로 불편함이 줄었다고 해야 할까?\\n그래서 오늘은 바깥 외출을 했다. 물론 선글라스는 필참이다.\\n실내에서도 가능하면 선글라스는 쓴다.\\n뭔가 연예인 병에 걸린 것 같아 우스꽝스럽기도 했지만 내 눈이 더 중요하지.\\n\\n오후에는 보호렌즈를 제거하러 갔다.\\n혹시 무리가 되진 않을까 걱정에 택시를 탈까 생각도 해보았지만 그냥 지하철 타고 갔다.\\n선글라스로 무장을 했더니 별 문제 없었다. \\n\\n5. 수술 7일차\\n일주일이 지났다. 일상생활은 문제가 없고 다만 반드시 선글라스를 써야 한다.\\n여전히 미묘하게 불편한 느낌은 있는데, 전반적으로 생활은 할만하다.\\n\\n일상생활은 괜찮은데 컴퓨터 화면을 20~30분 이상 보면 눈이 심각하게 뿌옇게 된다.\\n알아보니 안구건조 현상 때문이라고 한다.\\n\\n인공눈물을 넣으면 그 순간은 괜찮지긴 하는데 아무튼 전체적으로 뿌옇긴 하다.\\n운전도 문제가 없다.\\n아직 시력이 많이 올라오진 않았지만 아는 길만 다닌다면 크게 문제가 없을 것 같다.\\n\\n일주일이 지난 오늘, 무척이나 만족스럽다.\\n안경이 없는 삶. 얼마나 고대했던가. 많이 늦었지만 참 기분이 좋다.',\n",
       " '강남센트럴안과의원']"
      ]
     },
     "execution_count": 12,
     "metadata": {},
     "output_type": "execute_result"
    }
   ],
   "source": [
    "[review_author,review_content, review_hospital]"
   ]
  },
  {
   "cell_type": "markdown",
   "id": "41ca1e34-dd7d-48f4-9375-bcd8a75df51d",
   "metadata": {
    "tags": []
   },
   "source": [
    "### 전체 리뷰 가져오기"
   ]
  },
  {
   "cell_type": "code",
   "execution_count": 39,
   "id": "da3e52f7-7e5b-4652-81c4-27e39a7e03aa",
   "metadata": {
    "tags": []
   },
   "outputs": [
    {
     "name": "stdout",
     "output_type": "stream",
     "text": [
      "593\n"
     ]
    }
   ],
   "source": [
    "# 전체 리뷰 가져오기 위한 looping\n",
    "reviews_list = list()\n",
    "\n",
    "for review_bundle in reviews_bundle:\n",
    "    # 작성자 가져오기\n",
    "    review_author_element = review_bundle.find_element_by_css_selector('.font-size-12.font-size-md-14.grey-a--text.ml-6').text\n",
    "    \n",
    "    # 리뷰 내용 가져오기\n",
    "    review_content_element = review_bundle.find_element_by_css_selector('a > div.v-card__text.d-flex.flex-column.px-16.py-20.px-md-26.py-md-36 > div.row.no-gutters.justify-space-between > div > div.d-flex.flex-column.v-card--default__content > div:nth-child(2) > div > div.col.content-area-before-text > div').text\n",
    "    \n",
    "    # 리뷰 병원명 가져오기\n",
    "    review_hospital_element = review_bundle.find_element_by_css_selector('div.pt-8.pt-md-14.mt-auto.mb-n4 > div > div:nth-child(1) > a > span').text\n",
    "    \n",
    "    # 리뷰 정보를 리스트로 저장,컬럼설정\n",
    "    review_list = {\n",
    "        '작성자': review_author_element,\n",
    "        '내용': review_content_element,\n",
    "        '병원명': review_hospital_element\n",
    "    }\n",
    "        \n",
    "    reviews_list.append(review_list)\n",
    "\n",
    "# 리뷰 리스트의 길이 출력\n",
    "print(len(reviews_list))"
   ]
  },
  {
   "cell_type": "code",
   "execution_count": 45,
   "id": "4be05832-d41f-49fa-bca6-b100c64f813b",
   "metadata": {},
   "outputs": [
    {
     "data": {
      "text/html": [
       "<div>\n",
       "<style scoped>\n",
       "    .dataframe tbody tr th:only-of-type {\n",
       "        vertical-align: middle;\n",
       "    }\n",
       "\n",
       "    .dataframe tbody tr th {\n",
       "        vertical-align: top;\n",
       "    }\n",
       "\n",
       "    .dataframe thead th {\n",
       "        text-align: right;\n",
       "    }\n",
       "</style>\n",
       "<table border=\"1\" class=\"dataframe\">\n",
       "  <thead>\n",
       "    <tr style=\"text-align: right;\">\n",
       "      <th></th>\n",
       "      <th>작성자</th>\n",
       "      <th>내용</th>\n",
       "      <th>병원명</th>\n",
       "    </tr>\n",
       "  </thead>\n",
       "  <tbody>\n",
       "    <tr>\n",
       "      <th>0</th>\n",
       "      <td>세상좋은 거북이님</td>\n",
       "      <td>아들래미 눈 주변 다래끼로 고생중에 안과를 찾았고, 매우 친절하게 잘 진료해주셨습니...</td>\n",
       "      <td>박태용안과의원</td>\n",
       "    </tr>\n",
       "    <tr>\n",
       "      <th>1</th>\n",
       "      <td>각막의 날다람쥐님</td>\n",
       "      <td>1. 수술 당일\\n수술 당일이다. 아침 일찍 일어나서 수술 당일 필요한 물품을 챙겼...</td>\n",
       "      <td>강남센트럴안과의원</td>\n",
       "    </tr>\n",
       "    <tr>\n",
       "      <th>2</th>\n",
       "      <td>날으는 붕붕이님</td>\n",
       "      <td>7세 아이 다래끼진료로 방문했어요.\\n간호사분들 너무 친절하시고\\n의사선생님도 자세...</td>\n",
       "      <td>박태용안과의원</td>\n",
       "    </tr>\n",
       "    <tr>\n",
       "      <th>3</th>\n",
       "      <td>뛰는 곰님</td>\n",
       "      <td>시력이 자꾸 안좋아지는것 같아 지인소개로 갔는데 병원 리모델링 이사로 깨끗했어요. ...</td>\n",
       "      <td>우리안과의원</td>\n",
       "    </tr>\n",
       "    <tr>\n",
       "      <th>4</th>\n",
       "      <td>천국의 형님</td>\n",
       "      <td>약을 하루치도 아니고 1회분만 주셔서\\n난감했던 기억이..\\n그래서 타지역갔다가 할...</td>\n",
       "      <td>서울봄빛안과의원</td>\n",
       "    </tr>\n",
       "    <tr>\n",
       "      <th>...</th>\n",
       "      <td>...</td>\n",
       "      <td>...</td>\n",
       "      <td>...</td>\n",
       "    </tr>\n",
       "    <tr>\n",
       "      <th>588</th>\n",
       "      <td>놀라운 오빠님</td>\n",
       "      <td>안녕하세요 안산 중앙역에 위치한 에스안과에 다녀온 후기 남깁니다. 예약할 때 주의사...</td>\n",
       "      <td>에스안과의원</td>\n",
       "    </tr>\n",
       "    <tr>\n",
       "      <th>589</th>\n",
       "      <td>인형 잡은 햄스터님</td>\n",
       "      <td>친구가 라섹 하고 너무 만족해 해서 집에서 가까운 안과에 전화로 라식, 라섹 문의했...</td>\n",
       "      <td>예본안과의원</td>\n",
       "    </tr>\n",
       "    <tr>\n",
       "      <th>590</th>\n",
       "      <td>파워풀한 undefined님</td>\n",
       "      <td>안녕하세요 석촌역에 있는 잠실서울밝은안과 다녀온 후기 남깁니다! 안내받은 비용은 시...</td>\n",
       "      <td>잠실서울밝은안과의원</td>\n",
       "    </tr>\n",
       "    <tr>\n",
       "      <th>591</th>\n",
       "      <td>날라가는 형님</td>\n",
       "      <td>아이리움 안과의원에서 라식 검사를 받았다. 미리 전화예약을 통해 검사 예약을 했고,...</td>\n",
       "      <td>아이리움안과의원</td>\n",
       "    </tr>\n",
       "    <tr>\n",
       "      <th>592</th>\n",
       "      <td>그대의 붕붕이님</td>\n",
       "      <td>처음 들어갔을 때 간호사 분들이 친절하게 병원 소개와 대기 자리를안내해주셨습니다. ...</td>\n",
       "      <td>아이플러스안과의원</td>\n",
       "    </tr>\n",
       "  </tbody>\n",
       "</table>\n",
       "<p>593 rows × 3 columns</p>\n",
       "</div>"
      ],
      "text/plain": [
       "                 작성자                                                 내용  \\\n",
       "0          세상좋은 거북이님  아들래미 눈 주변 다래끼로 고생중에 안과를 찾았고, 매우 친절하게 잘 진료해주셨습니...   \n",
       "1          각막의 날다람쥐님  1. 수술 당일\\n수술 당일이다. 아침 일찍 일어나서 수술 당일 필요한 물품을 챙겼...   \n",
       "2           날으는 붕붕이님  7세 아이 다래끼진료로 방문했어요.\\n간호사분들 너무 친절하시고\\n의사선생님도 자세...   \n",
       "3              뛰는 곰님  시력이 자꾸 안좋아지는것 같아 지인소개로 갔는데 병원 리모델링 이사로 깨끗했어요. ...   \n",
       "4             천국의 형님  약을 하루치도 아니고 1회분만 주셔서\\n난감했던 기억이..\\n그래서 타지역갔다가 할...   \n",
       "..               ...                                                ...   \n",
       "588          놀라운 오빠님  안녕하세요 안산 중앙역에 위치한 에스안과에 다녀온 후기 남깁니다. 예약할 때 주의사...   \n",
       "589       인형 잡은 햄스터님  친구가 라섹 하고 너무 만족해 해서 집에서 가까운 안과에 전화로 라식, 라섹 문의했...   \n",
       "590  파워풀한 undefined님  안녕하세요 석촌역에 있는 잠실서울밝은안과 다녀온 후기 남깁니다! 안내받은 비용은 시...   \n",
       "591          날라가는 형님  아이리움 안과의원에서 라식 검사를 받았다. 미리 전화예약을 통해 검사 예약을 했고,...   \n",
       "592         그대의 붕붕이님  처음 들어갔을 때 간호사 분들이 친절하게 병원 소개와 대기 자리를안내해주셨습니다. ...   \n",
       "\n",
       "            병원명  \n",
       "0       박태용안과의원  \n",
       "1     강남센트럴안과의원  \n",
       "2       박태용안과의원  \n",
       "3        우리안과의원  \n",
       "4      서울봄빛안과의원  \n",
       "..          ...  \n",
       "588      에스안과의원  \n",
       "589      예본안과의원  \n",
       "590  잠실서울밝은안과의원  \n",
       "591    아이리움안과의원  \n",
       "592   아이플러스안과의원  \n",
       "\n",
       "[593 rows x 3 columns]"
      ]
     },
     "execution_count": 45,
     "metadata": {},
     "output_type": "execute_result"
    }
   ],
   "source": [
    "df = pd.DataFrame(reviews_list)\n",
    "df"
   ]
  },
  {
   "cell_type": "code",
   "execution_count": 46,
   "id": "4588183a-5ee8-4920-ac2f-31fad270f562",
   "metadata": {},
   "outputs": [
    {
     "data": {
      "text/html": [
       "<div>\n",
       "<style scoped>\n",
       "    .dataframe tbody tr th:only-of-type {\n",
       "        vertical-align: middle;\n",
       "    }\n",
       "\n",
       "    .dataframe tbody tr th {\n",
       "        vertical-align: top;\n",
       "    }\n",
       "\n",
       "    .dataframe thead th {\n",
       "        text-align: right;\n",
       "    }\n",
       "</style>\n",
       "<table border=\"1\" class=\"dataframe\">\n",
       "  <thead>\n",
       "    <tr style=\"text-align: right;\">\n",
       "      <th></th>\n",
       "      <th>작성자</th>\n",
       "      <th>내용</th>\n",
       "      <th>병원명</th>\n",
       "    </tr>\n",
       "  </thead>\n",
       "  <tbody>\n",
       "    <tr>\n",
       "      <th>0</th>\n",
       "      <td>세상좋은 거북이님</td>\n",
       "      <td>아들래미 눈 주변 다래끼로 고생중에 안과를 찾았고, 매우 친절하게 잘 진료해주셨습니...</td>\n",
       "      <td>박태용안과의원</td>\n",
       "    </tr>\n",
       "    <tr>\n",
       "      <th>1</th>\n",
       "      <td>각막의 날다람쥐님</td>\n",
       "      <td>1. 수술 당일\\n수술 당일이다. 아침 일찍 일어나서 수술 당일 필요한 물품을 챙겼...</td>\n",
       "      <td>강남센트럴안과의원</td>\n",
       "    </tr>\n",
       "    <tr>\n",
       "      <th>2</th>\n",
       "      <td>날으는 붕붕이님</td>\n",
       "      <td>7세 아이 다래끼진료로 방문했어요.\\n간호사분들 너무 친절하시고\\n의사선생님도 자세...</td>\n",
       "      <td>박태용안과의원</td>\n",
       "    </tr>\n",
       "    <tr>\n",
       "      <th>3</th>\n",
       "      <td>뛰는 곰님</td>\n",
       "      <td>시력이 자꾸 안좋아지는것 같아 지인소개로 갔는데 병원 리모델링 이사로 깨끗했어요. ...</td>\n",
       "      <td>우리안과의원</td>\n",
       "    </tr>\n",
       "    <tr>\n",
       "      <th>4</th>\n",
       "      <td>천국의 형님</td>\n",
       "      <td>약을 하루치도 아니고 1회분만 주셔서\\n난감했던 기억이..\\n그래서 타지역갔다가 할...</td>\n",
       "      <td>서울봄빛안과의원</td>\n",
       "    </tr>\n",
       "    <tr>\n",
       "      <th>...</th>\n",
       "      <td>...</td>\n",
       "      <td>...</td>\n",
       "      <td>...</td>\n",
       "    </tr>\n",
       "    <tr>\n",
       "      <th>588</th>\n",
       "      <td>놀라운 오빠님</td>\n",
       "      <td>안녕하세요 안산 중앙역에 위치한 에스안과에 다녀온 후기 남깁니다. 예약할 때 주의사...</td>\n",
       "      <td>에스안과의원</td>\n",
       "    </tr>\n",
       "    <tr>\n",
       "      <th>589</th>\n",
       "      <td>인형 잡은 햄스터님</td>\n",
       "      <td>친구가 라섹 하고 너무 만족해 해서 집에서 가까운 안과에 전화로 라식, 라섹 문의했...</td>\n",
       "      <td>예본안과의원</td>\n",
       "    </tr>\n",
       "    <tr>\n",
       "      <th>590</th>\n",
       "      <td>파워풀한 undefined님</td>\n",
       "      <td>안녕하세요 석촌역에 있는 잠실서울밝은안과 다녀온 후기 남깁니다! 안내받은 비용은 시...</td>\n",
       "      <td>잠실서울밝은안과의원</td>\n",
       "    </tr>\n",
       "    <tr>\n",
       "      <th>591</th>\n",
       "      <td>날라가는 형님</td>\n",
       "      <td>아이리움 안과의원에서 라식 검사를 받았다. 미리 전화예약을 통해 검사 예약을 했고,...</td>\n",
       "      <td>아이리움안과의원</td>\n",
       "    </tr>\n",
       "    <tr>\n",
       "      <th>592</th>\n",
       "      <td>그대의 붕붕이님</td>\n",
       "      <td>처음 들어갔을 때 간호사 분들이 친절하게 병원 소개와 대기 자리를안내해주셨습니다. ...</td>\n",
       "      <td>아이플러스안과의원</td>\n",
       "    </tr>\n",
       "  </tbody>\n",
       "</table>\n",
       "<p>593 rows × 3 columns</p>\n",
       "</div>"
      ],
      "text/plain": [
       "                 작성자                                                 내용  \\\n",
       "0          세상좋은 거북이님  아들래미 눈 주변 다래끼로 고생중에 안과를 찾았고, 매우 친절하게 잘 진료해주셨습니...   \n",
       "1          각막의 날다람쥐님  1. 수술 당일\\n수술 당일이다. 아침 일찍 일어나서 수술 당일 필요한 물품을 챙겼...   \n",
       "2           날으는 붕붕이님  7세 아이 다래끼진료로 방문했어요.\\n간호사분들 너무 친절하시고\\n의사선생님도 자세...   \n",
       "3              뛰는 곰님  시력이 자꾸 안좋아지는것 같아 지인소개로 갔는데 병원 리모델링 이사로 깨끗했어요. ...   \n",
       "4             천국의 형님  약을 하루치도 아니고 1회분만 주셔서\\n난감했던 기억이..\\n그래서 타지역갔다가 할...   \n",
       "..               ...                                                ...   \n",
       "588          놀라운 오빠님  안녕하세요 안산 중앙역에 위치한 에스안과에 다녀온 후기 남깁니다. 예약할 때 주의사...   \n",
       "589       인형 잡은 햄스터님  친구가 라섹 하고 너무 만족해 해서 집에서 가까운 안과에 전화로 라식, 라섹 문의했...   \n",
       "590  파워풀한 undefined님  안녕하세요 석촌역에 있는 잠실서울밝은안과 다녀온 후기 남깁니다! 안내받은 비용은 시...   \n",
       "591          날라가는 형님  아이리움 안과의원에서 라식 검사를 받았다. 미리 전화예약을 통해 검사 예약을 했고,...   \n",
       "592         그대의 붕붕이님  처음 들어갔을 때 간호사 분들이 친절하게 병원 소개와 대기 자리를안내해주셨습니다. ...   \n",
       "\n",
       "            병원명  \n",
       "0       박태용안과의원  \n",
       "1     강남센트럴안과의원  \n",
       "2       박태용안과의원  \n",
       "3        우리안과의원  \n",
       "4      서울봄빛안과의원  \n",
       "..          ...  \n",
       "588      에스안과의원  \n",
       "589      예본안과의원  \n",
       "590  잠실서울밝은안과의원  \n",
       "591    아이리움안과의원  \n",
       "592   아이플러스안과의원  \n",
       "\n",
       "[593 rows x 3 columns]"
      ]
     },
     "execution_count": 46,
     "metadata": {},
     "output_type": "execute_result"
    }
   ],
   "source": [
    "df.drop_duplicates() # 전체 컬럼 기준 중복된 사항 삭제"
   ]
  },
  {
   "cell_type": "code",
   "execution_count": 47,
   "id": "3da1eead-df43-4af3-a4d8-f3b83d5e0381",
   "metadata": {
    "tags": []
   },
   "outputs": [
    {
     "data": {
      "text/html": [
       "<div>\n",
       "<style scoped>\n",
       "    .dataframe tbody tr th:only-of-type {\n",
       "        vertical-align: middle;\n",
       "    }\n",
       "\n",
       "    .dataframe tbody tr th {\n",
       "        vertical-align: top;\n",
       "    }\n",
       "\n",
       "    .dataframe thead th {\n",
       "        text-align: right;\n",
       "    }\n",
       "</style>\n",
       "<table border=\"1\" class=\"dataframe\">\n",
       "  <thead>\n",
       "    <tr style=\"text-align: right;\">\n",
       "      <th></th>\n",
       "      <th>작성자</th>\n",
       "      <th>내용</th>\n",
       "      <th>병원명</th>\n",
       "    </tr>\n",
       "  </thead>\n",
       "  <tbody>\n",
       "    <tr>\n",
       "      <th>0</th>\n",
       "      <td>세상좋은 거북이님</td>\n",
       "      <td>아들래미 눈 주변 다래끼로 고생중에 안과를 찾았고, 매우 친절하게 잘 진료해주셨습니...</td>\n",
       "      <td>박태용안과의원</td>\n",
       "    </tr>\n",
       "    <tr>\n",
       "      <th>1</th>\n",
       "      <td>각막의 날다람쥐님</td>\n",
       "      <td>1. 수술 당일\\n수술 당일이다. 아침 일찍 일어나서 수술 당일 필요한 물품을 챙겼...</td>\n",
       "      <td>강남센트럴안과의원</td>\n",
       "    </tr>\n",
       "    <tr>\n",
       "      <th>2</th>\n",
       "      <td>날으는 붕붕이님</td>\n",
       "      <td>7세 아이 다래끼진료로 방문했어요.\\n간호사분들 너무 친절하시고\\n의사선생님도 자세...</td>\n",
       "      <td>박태용안과의원</td>\n",
       "    </tr>\n",
       "    <tr>\n",
       "      <th>3</th>\n",
       "      <td>뛰는 곰님</td>\n",
       "      <td>시력이 자꾸 안좋아지는것 같아 지인소개로 갔는데 병원 리모델링 이사로 깨끗했어요. ...</td>\n",
       "      <td>우리안과의원</td>\n",
       "    </tr>\n",
       "    <tr>\n",
       "      <th>4</th>\n",
       "      <td>천국의 형님</td>\n",
       "      <td>약을 하루치도 아니고 1회분만 주셔서\\n난감했던 기억이..\\n그래서 타지역갔다가 할...</td>\n",
       "      <td>서울봄빛안과의원</td>\n",
       "    </tr>\n",
       "    <tr>\n",
       "      <th>...</th>\n",
       "      <td>...</td>\n",
       "      <td>...</td>\n",
       "      <td>...</td>\n",
       "    </tr>\n",
       "    <tr>\n",
       "      <th>588</th>\n",
       "      <td>놀라운 오빠님</td>\n",
       "      <td>안녕하세요 안산 중앙역에 위치한 에스안과에 다녀온 후기 남깁니다. 예약할 때 주의사...</td>\n",
       "      <td>에스안과의원</td>\n",
       "    </tr>\n",
       "    <tr>\n",
       "      <th>589</th>\n",
       "      <td>인형 잡은 햄스터님</td>\n",
       "      <td>친구가 라섹 하고 너무 만족해 해서 집에서 가까운 안과에 전화로 라식, 라섹 문의했...</td>\n",
       "      <td>예본안과의원</td>\n",
       "    </tr>\n",
       "    <tr>\n",
       "      <th>590</th>\n",
       "      <td>파워풀한 undefined님</td>\n",
       "      <td>안녕하세요 석촌역에 있는 잠실서울밝은안과 다녀온 후기 남깁니다! 안내받은 비용은 시...</td>\n",
       "      <td>잠실서울밝은안과의원</td>\n",
       "    </tr>\n",
       "    <tr>\n",
       "      <th>591</th>\n",
       "      <td>날라가는 형님</td>\n",
       "      <td>아이리움 안과의원에서 라식 검사를 받았다. 미리 전화예약을 통해 검사 예약을 했고,...</td>\n",
       "      <td>아이리움안과의원</td>\n",
       "    </tr>\n",
       "    <tr>\n",
       "      <th>592</th>\n",
       "      <td>그대의 붕붕이님</td>\n",
       "      <td>처음 들어갔을 때 간호사 분들이 친절하게 병원 소개와 대기 자리를안내해주셨습니다. ...</td>\n",
       "      <td>아이플러스안과의원</td>\n",
       "    </tr>\n",
       "  </tbody>\n",
       "</table>\n",
       "<p>593 rows × 3 columns</p>\n",
       "</div>"
      ],
      "text/plain": [
       "                 작성자                                                 내용  \\\n",
       "0          세상좋은 거북이님  아들래미 눈 주변 다래끼로 고생중에 안과를 찾았고, 매우 친절하게 잘 진료해주셨습니...   \n",
       "1          각막의 날다람쥐님  1. 수술 당일\\n수술 당일이다. 아침 일찍 일어나서 수술 당일 필요한 물품을 챙겼...   \n",
       "2           날으는 붕붕이님  7세 아이 다래끼진료로 방문했어요.\\n간호사분들 너무 친절하시고\\n의사선생님도 자세...   \n",
       "3              뛰는 곰님  시력이 자꾸 안좋아지는것 같아 지인소개로 갔는데 병원 리모델링 이사로 깨끗했어요. ...   \n",
       "4             천국의 형님  약을 하루치도 아니고 1회분만 주셔서\\n난감했던 기억이..\\n그래서 타지역갔다가 할...   \n",
       "..               ...                                                ...   \n",
       "588          놀라운 오빠님  안녕하세요 안산 중앙역에 위치한 에스안과에 다녀온 후기 남깁니다. 예약할 때 주의사...   \n",
       "589       인형 잡은 햄스터님  친구가 라섹 하고 너무 만족해 해서 집에서 가까운 안과에 전화로 라식, 라섹 문의했...   \n",
       "590  파워풀한 undefined님  안녕하세요 석촌역에 있는 잠실서울밝은안과 다녀온 후기 남깁니다! 안내받은 비용은 시...   \n",
       "591          날라가는 형님  아이리움 안과의원에서 라식 검사를 받았다. 미리 전화예약을 통해 검사 예약을 했고,...   \n",
       "592         그대의 붕붕이님  처음 들어갔을 때 간호사 분들이 친절하게 병원 소개와 대기 자리를안내해주셨습니다. ...   \n",
       "\n",
       "            병원명  \n",
       "0       박태용안과의원  \n",
       "1     강남센트럴안과의원  \n",
       "2       박태용안과의원  \n",
       "3        우리안과의원  \n",
       "4      서울봄빛안과의원  \n",
       "..          ...  \n",
       "588      에스안과의원  \n",
       "589      예본안과의원  \n",
       "590  잠실서울밝은안과의원  \n",
       "591    아이리움안과의원  \n",
       "592   아이플러스안과의원  \n",
       "\n",
       "[593 rows x 3 columns]"
      ]
     },
     "execution_count": 47,
     "metadata": {},
     "output_type": "execute_result"
    }
   ],
   "source": [
    "df.drop_duplicates(subset=['작성자', '내용'], keep='last') # 특정 컬럼 기준 # keep='last' = 중복된 컬럼중에서 가져올 컬럼"
   ]
  },
  {
   "cell_type": "code",
   "execution_count": 49,
   "id": "93ec2ca4-3e99-48a5-bcce-0b5a1b1b5290",
   "metadata": {
    "tags": []
   },
   "outputs": [],
   "source": [
    "# 중복된 컬럼 없어서 rows 값이 변경되지 않음"
   ]
  },
  {
   "cell_type": "code",
   "execution_count": 52,
   "id": "2a0ecb0f-5479-4a2d-8fd8-3da913b3070c",
   "metadata": {
    "tags": []
   },
   "outputs": [],
   "source": [
    "df.to_csv('eyereviews_list.csv')   # 엑셀로 바꿈"
   ]
  },
  {
   "cell_type": "code",
   "execution_count": null,
   "id": "af79fd1e-562a-4485-83b5-b712c71f21b0",
   "metadata": {},
   "outputs": [],
   "source": []
  }
 ],
 "metadata": {
  "kernelspec": {
   "display_name": "Python 3 (ipykernel)",
   "language": "python",
   "name": "python3"
  },
  "language_info": {
   "codemirror_mode": {
    "name": "ipython",
    "version": 3
   },
   "file_extension": ".py",
   "mimetype": "text/x-python",
   "name": "python",
   "nbconvert_exporter": "python",
   "pygments_lexer": "ipython3",
   "version": "3.11.3"
  }
 },
 "nbformat": 4,
 "nbformat_minor": 5
}
