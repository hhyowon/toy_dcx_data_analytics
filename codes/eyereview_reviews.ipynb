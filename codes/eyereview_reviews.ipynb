{
 "cells": [
  {
   "cell_type": "markdown",
   "id": "a4eed0cf-872f-451f-9686-c8a884f3717d",
   "metadata": {
    "tags": []
   },
   "source": [
    "## Eye Review 홈페이지에서 안과 리뷰 스크래핑 하기\n",
    "- toy_dcx_data_analytics (git)\n",
    "- 환자 페인 포인트 찾기\n",
    "- 댓글 최소 1천건 이상(스크래핑 사이트 3개 이상)\n",
    "- DB 컬럼 : 작성자, 작성일, 내용, 별점"
   ]
  },
  {
   "cell_type": "markdown",
   "id": "de24ee59-36a3-4eea-97d5-9e5d84ceb8c4",
   "metadata": {
    "tags": []
   },
   "source": [
    "### chorme browser open \n",
    "- 아이리뷰 :  https://xn--oy2b21f01h9lc.com/"
   ]
  },
  {
   "cell_type": "code",
   "execution_count": 1,
   "id": "dd91d561-517d-4bcd-aaf2-640a9c2cb6c0",
   "metadata": {
    "tags": []
   },
   "outputs": [],
   "source": [
    "from selenium import webdriver\n",
    "import pandas as pd"
   ]
  },
  {
   "cell_type": "code",
   "execution_count": 2,
   "id": "f3dd563f-81a9-42bf-9ae3-bde47dc19ffe",
   "metadata": {
    "tags": []
   },
   "outputs": [],
   "source": [
    "options = webdriver.ChromeOptions()\n",
    "options.add_argument(\"--window-size=1560,840\")\n",
    "browser = webdriver.Chrome(executable_path='../../chromedriver.exe', options=options) #webdriver_selenium과 web을 연결해주기위함. \n",
    "browser.get('https://xn--oy2b21f01h9lc.com/')\n",
    "browser.implicitly_wait(10)"
   ]
  },
  {
   "cell_type": "markdown",
   "id": "bb1bd73c-785b-414e-bd5c-1d724930ca32",
   "metadata": {
    "tags": []
   },
   "source": [
    "### Login\n",
    "- 로그인 버튼 클릭 tag : div.row.row--small.user-menu.align-center.justify-center > div:nth-child(1)\n",
    "- user_email tag : #input-3127\n",
    "- password tag : #input-1571\n",
    "- submit button tag :div.login-row.login-row--submit.mt-16.mt-md-20 > button"
   ]
  },
  {
   "cell_type": "code",
   "execution_count": 3,
   "id": "26d66a9e-5466-4b18-855b-8dbf6a0a572f",
   "metadata": {
    "tags": []
   },
   "outputs": [],
   "source": [
    "browser.find_element_by_css_selector('div.row.row--small.user-menu.align-center.justify-center > div:nth-child(1)').click()"
   ]
  },
  {
   "cell_type": "code",
   "execution_count": 5,
   "id": "17196577-b5aa-4bc7-8ae6-150017e30793",
   "metadata": {
    "tags": []
   },
   "outputs": [],
   "source": [
    "browser.find_element_by_css_selector('#input-1680').send_keys('circle0605@naver.com')\n",
    "browser.find_element_by_css_selector('#input-1681').send_keys('507303')"
   ]
  },
  {
   "cell_type": "code",
   "execution_count": 6,
   "id": "ed0a6c71-5dce-48d4-aead-2a165d921098",
   "metadata": {
    "tags": []
   },
   "outputs": [],
   "source": [
    "browser.find_element_by_css_selector('div.login-row.login-row--submit.mt-16.mt-md-20 > button').click()"
   ]
  },
  {
   "cell_type": "markdown",
   "id": "1e32d9b9-e8e3-4263-a8a7-a6bfea633cb3",
   "metadata": {
    "tags": []
   },
   "source": [
    "### 안과후기\n",
    "- 안과후기tag : div.header__gnb.justify-center > ul > li:nth-child(2)\n",
    "- 더보기 tag : div.mt-40.mt-md-70 > div > button\n",
    "- 작성자, (작성일), 내용, 별점 , 병원명\n",
    "   - 해당 사이트에는 작성일이 게시되어 있지 않아 가져오지 못함"
   ]
  },
  {
   "cell_type": "code",
   "execution_count": 7,
   "id": "ea1392d4-fae9-4c71-bc82-f12d992dd892",
   "metadata": {
    "tags": []
   },
   "outputs": [],
   "source": [
    "browser.find_element_by_css_selector('div.header__gnb.justify-center > ul > li:nth-child(2)').click()"
   ]
  },
  {
   "cell_type": "code",
   "execution_count": 8,
   "id": "51b24ca5-6e49-469d-be53-469dc2bce21c",
   "metadata": {
    "tags": []
   },
   "outputs": [],
   "source": [
    "# browser.find_element_by_css_selector('div.mt-40.mt-md-70 > div > button').click() #리뷰더보기 검토"
   ]
  },
  {
   "cell_type": "code",
   "execution_count": 9,
   "id": "6e634e3e-4398-4336-aa10-eefd06d4ed9a",
   "metadata": {
    "tags": []
   },
   "outputs": [],
   "source": [
    "# 리뷰 전체 더보기 : 예외가 발생할 때까지 계속해서 버튼을 클릭(추가 더보기 없을때)\n",
    "while True :\n",
    "    try :\n",
    "        browser.find_element_by_css_selector('div.mt-40.mt-md-70 > div > button').click()\n",
    "    except :\n",
    "        break"
   ]
  },
  {
   "cell_type": "markdown",
   "id": "b184664b-31f2-4f24-a021-1db0a0a4e4c8",
   "metadata": {
    "tags": []
   },
   "source": [
    "#### 리뷰 작성자\n",
    "- 작성자 tag : .font-size-12.font-size-md-14.grey-a--text.ml-6"
   ]
  },
  {
   "cell_type": "code",
   "execution_count": 10,
   "id": "a1482538-6ac1-4e3a-a12d-8780c0a77181",
   "metadata": {
    "tags": []
   },
   "outputs": [
    {
     "data": {
      "text/plain": [
       "(list, selenium.webdriver.remote.webelement.WebElement)"
      ]
     },
     "execution_count": 10,
     "metadata": {},
     "output_type": "execute_result"
    }
   ],
   "source": [
    "review_author = browser.find_elements_by_css_selector('.font-size-12.font-size-md-14.grey-a--text.ml-6')\n",
    "type(review_author), type(review_author[0])"
   ]
  },
  {
   "cell_type": "code",
   "execution_count": 11,
   "id": "15a0e4c1-98fe-4afd-b7ae-aeda95a959d8",
   "metadata": {
    "tags": []
   },
   "outputs": [
    {
     "data": {
      "text/plain": [
       "['여행 중인 풍뎅이님']"
      ]
     },
     "execution_count": 11,
     "metadata": {},
     "output_type": "execute_result"
    }
   ],
   "source": [
    "# 리뷰 작성자 리스트\n",
    "review_author_list = []\n",
    "for review_author in review_author :\n",
    "    review_author_list.append(review_author.text)\n",
    "\n",
    "review_author_list"
   ]
  },
  {
   "cell_type": "markdown",
   "id": "a3c517c7-9cff-4bd0-a52d-1a8c1683ea89",
   "metadata": {},
   "source": [
    "#### 리뷰 내용\n",
    "- 작성내용 tag :  a > div.v-card__text.d-flex.flex-column.px-16.py-20.px-md-26.py-md-36 > div.row.no-gutters.justify-space-between > div > div.d-flex.flex-column.v-card--default__content > div:nth-child(2) > div > div.col.content-area-before-text > div"
   ]
  },
  {
   "cell_type": "code",
   "execution_count": 12,
   "id": "2f79ef57-d1f1-422f-a2e1-396f0e1d5170",
   "metadata": {
    "tags": []
   },
   "outputs": [
    {
     "ename": "IndexError",
     "evalue": "list index out of range",
     "output_type": "error",
     "traceback": [
      "\u001b[1;31m---------------------------------------------------------------------------\u001b[0m",
      "\u001b[1;31mIndexError\u001b[0m                                Traceback (most recent call last)",
      "Cell \u001b[1;32mIn[12], line 2\u001b[0m\n\u001b[0;32m      1\u001b[0m review_content \u001b[38;5;241m=\u001b[39m browser\u001b[38;5;241m.\u001b[39mfind_elements_by_css_selector(\u001b[38;5;124m'\u001b[39m\u001b[38;5;124ma > div.v-card__text.d-flex.flex-column.px-16.py-20.px-md-26.py-md-36 > div.row.no-gutters.justify-space-between > div > div.d-flex.flex-column.v-card--default__content > div:nth-child(2) > div > div.col.content-area-before-text > div\u001b[39m\u001b[38;5;124m'\u001b[39m)\n\u001b[1;32m----> 2\u001b[0m \u001b[38;5;28mtype\u001b[39m(review_content), \u001b[38;5;28mtype\u001b[39m(review_content[\u001b[38;5;241m0\u001b[39m])\n",
      "\u001b[1;31mIndexError\u001b[0m: list index out of range"
     ]
    }
   ],
   "source": [
    "review_content = browser.find_elements_by_css_selector('a > div.v-card__text.d-flex.flex-column.px-16.py-20.px-md-26.py-md-36 > div.row.no-gutters.justify-space-between > div > div.d-flex.flex-column.v-card--default__content > div:nth-child(2) > div > div.col.content-area-before-text > div')\n",
    "type(review_content), type(review_content[0])"
   ]
  },
  {
   "cell_type": "code",
   "execution_count": null,
   "id": "85ac3c21-ba42-4f24-86ee-f6d373b62e77",
   "metadata": {
    "tags": []
   },
   "outputs": [],
   "source": [
    "# 리뷰 내용 리스트\n",
    "review_content_list = []\n",
    "for review_content in review_content :\n",
    "    review_content_list.append(review_content.text)\n",
    "\n",
    "review_content_list"
   ]
  },
  {
   "cell_type": "markdown",
   "id": "506df478-083a-419d-9811-a5be5a508d8b",
   "metadata": {
    "tags": []
   },
   "source": [
    "#### 리뷰 별점\n",
    "- 별점 tag : "
   ]
  },
  {
   "cell_type": "code",
   "execution_count": null,
   "id": "d7abd9fd-d0cf-44da-aa7e-0c3d4714ad15",
   "metadata": {
    "tags": []
   },
   "outputs": [],
   "source": [
    "review_elements = browser.find_elements_by_css_selector('div.v-rating')\n",
    "\n",
    "# Initialize a list to store the star ratings\n",
    "star_ratings = []\n",
    "\n",
    "# 리뷰 요소를 반복합니다\n",
    "for review_element in review_elements:\n",
    "    # 각 리뷰 요소 내에서 채워진 별을 찾습니다\n",
    "    filled_stars = review_element.find_elements_by_css_selector('button.mdi-star')\n",
    "\n",
    "    # 각 리뷰 요소 내에서 반 채워진 별을 찾습니다\n",
    "    half_filled_stars = review_element.find_elements_by_css_selector('button.mdi-star-half-full')\n",
    "\n",
    "    # 채워진 별과 반 채워진 별의 수를 토대로 별점을 계산합니다\n",
    "    star_rating = len(filled_stars) + 0.5 * len(half_filled_stars)\n",
    "\n",
    "    # 이 리뷰의 별점을 리스트에 추가합니다\n",
    "    star_ratings.append(star_rating)\n",
    "\n",
    "# 이제 star_ratings 리스트에 모든 리뷰의 별점이 들어 있습니다\n",
    "print(\"별점:\", star_ratings)"
   ]
  },
  {
   "cell_type": "code",
   "execution_count": null,
   "id": "18f5edd0-d744-48f4-ae6f-50afac3ae15b",
   "metadata": {
    "tags": []
   },
   "outputs": [],
   "source": [
    "# 리뷰 별점 리스트\n",
    "review_star_list = []\n",
    "for review_star_element in review_star:\n",
    "    review_star_t = review_star_element.get_attribute('aria-label')\n",
    "    review_star_list.append(review_star_t)\n",
    "review_star_list"
   ]
  },
  {
   "cell_type": "markdown",
   "id": "7e3abcc3-0e77-403f-8798-2ffd3c98d14c",
   "metadata": {
    "tags": []
   },
   "source": [
    "#### 리뷰 병원명\n",
    "- 병원명 tag : div.pt-8.pt-md-14.mt-auto.mb-n4 > div > div:nth-child(1) > a > span"
   ]
  },
  {
   "cell_type": "code",
   "execution_count": null,
   "id": "e19c3b53-e733-4945-a790-239a987e66ad",
   "metadata": {
    "tags": []
   },
   "outputs": [],
   "source": [
    "review_hospital = browser.find_elements_by_css_selector('div.pt-8.pt-md-14.mt-auto.mb-n4 > div > div:nth-child(1) > a > span')\n",
    "type(review_hospital), type(review_hospital[0])"
   ]
  },
  {
   "cell_type": "code",
   "execution_count": null,
   "id": "5882c83b-9083-498a-82aa-d08b2f3fd606",
   "metadata": {
    "tags": []
   },
   "outputs": [],
   "source": [
    "# 리뷰 병원 이름 리스트\n",
    "review_hospital_list = []\n",
    "for review_hospital in review_hospital :\n",
    "    review_hospital_list.append(review_hospital.text)\n",
    "\n",
    "review_hospital_list"
   ]
  },
  {
   "cell_type": "code",
   "execution_count": null,
   "id": "4588183a-5ee8-4920-ac2f-31fad270f562",
   "metadata": {},
   "outputs": [],
   "source": []
  },
  {
   "cell_type": "code",
   "execution_count": null,
   "id": "a82f8613-a602-45b1-88c3-d17055b1c851",
   "metadata": {},
   "outputs": [],
   "source": []
  },
  {
   "cell_type": "code",
   "execution_count": null,
   "id": "0a6a4d8d-f8eb-450c-a84d-34d679b2acb5",
   "metadata": {},
   "outputs": [],
   "source": []
  }
 ],
 "metadata": {
  "kernelspec": {
   "display_name": "Python 3 (ipykernel)",
   "language": "python",
   "name": "python3"
  },
  "language_info": {
   "codemirror_mode": {
    "name": "ipython",
    "version": 3
   },
   "file_extension": ".py",
   "mimetype": "text/x-python",
   "name": "python",
   "nbconvert_exporter": "python",
   "pygments_lexer": "ipython3",
   "version": "3.11.3"
  }
 },
 "nbformat": 4,
 "nbformat_minor": 5
}
