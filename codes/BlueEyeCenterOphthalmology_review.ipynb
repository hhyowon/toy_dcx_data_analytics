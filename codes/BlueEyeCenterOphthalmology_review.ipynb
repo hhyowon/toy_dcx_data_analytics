{
 "cells": [
  {
   "cell_type": "markdown",
   "id": "f1361f96-1acc-4c12-b0c1-179fe3c9ef0e",
   "metadata": {},
   "source": [
    "### 푸른세상안과의원(BlueEyeCenter) 리뷰: 스마일라식라섹, 노안백내장, 드림렌즈"
   ]
  },
  {
   "cell_type": "code",
   "execution_count": null,
   "id": "8adad553-4d44-4fbd-8500-068492e8af9a",
   "metadata": {},
   "outputs": [],
   "source": []
  }
 ],
 "metadata": {
  "kernelspec": {
   "display_name": "Python 3 (ipykernel)",
   "language": "python",
   "name": "python3"
  },
  "language_info": {
   "codemirror_mode": {
    "name": "ipython",
    "version": 3
   },
   "file_extension": ".py",
   "mimetype": "text/x-python",
   "name": "python",
   "nbconvert_exporter": "python",
   "pygments_lexer": "ipython3",
   "version": "3.11.3"
  }
 },
 "nbformat": 4,
 "nbformat_minor": 5
}
