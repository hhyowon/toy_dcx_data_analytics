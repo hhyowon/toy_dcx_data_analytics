{
 "cells": [
  {
   "cell_type": "markdown",
   "id": "a4eed0cf-872f-451f-9686-c8a884f3717d",
   "metadata": {
    "tags": []
   },
   "source": [
    "## Eye Review 홈페이지에서 안과 리뷰 스크래핑 하기\n",
    "- toy_dcx_data_analytics (git)\n",
    "- 환자 페인 포인트 찾기\n",
    "- 댓글 최소 1천건 이상(스크래핑 사이트 3개 이상)\n",
    "- DB 컬럼 : 작성자, 작성일, 내용, 별점\n",
    "- 스마일라식,라식,라섹,노안백내장,안내렌즈삽입술,망막,녹내장,안구건조증,기타"
   ]
  },
  {
   "cell_type": "markdown",
   "id": "de24ee59-36a3-4eea-97d5-9e5d84ceb8c4",
   "metadata": {
    "tags": []
   },
   "source": [
    "### chorme browser open \n",
    "- 아이리뷰 :  https://xn--oy2b21f01h9lc.com/"
   ]
  },
  {
   "cell_type": "code",
   "execution_count": 189,
   "id": "dd91d561-517d-4bcd-aaf2-640a9c2cb6c0",
   "metadata": {
    "tags": []
   },
   "outputs": [],
   "source": [
    "from selenium import webdriver\n",
    "import pandas as pd"
   ]
  },
  {
   "cell_type": "code",
   "execution_count": 190,
   "id": "f3dd563f-81a9-42bf-9ae3-bde47dc19ffe",
   "metadata": {
    "tags": []
   },
   "outputs": [],
   "source": [
    "options = webdriver.ChromeOptions()\n",
    "options.add_argument(\"--window-size=1560,840\")\n",
    "browser = webdriver.Chrome(executable_path='../../chromedriver.exe', options=options) #webdriver_selenium과 web을 연결해주기위함. \n",
    "browser.get('https://xn--oy2b21f01h9lc.com/')\n",
    "browser.implicitly_wait(10)"
   ]
  },
  {
   "cell_type": "markdown",
   "id": "bb1bd73c-785b-414e-bd5c-1d724930ca32",
   "metadata": {
    "tags": []
   },
   "source": [
    "### Login\n",
    "- 로그인 버튼 클릭 tag : div.row.row--small.user-menu.align-center.justify-center > div:nth-child(1)\n",
    "- user_email tag : #input-3127\n",
    "- password tag : #input-1571\n",
    "- submit button tag :div.login-row.login-row--submit.mt-16.mt-md-20 > button"
   ]
  },
  {
   "cell_type": "code",
   "execution_count": 191,
   "id": "26d66a9e-5466-4b18-855b-8dbf6a0a572f",
   "metadata": {
    "tags": []
   },
   "outputs": [],
   "source": [
    "browser.find_element_by_css_selector('div.row.row--small.user-menu.align-center.justify-center > div:nth-child(1)').click()"
   ]
  },
  {
   "cell_type": "code",
   "execution_count": 192,
   "id": "17196577-b5aa-4bc7-8ae6-150017e30793",
   "metadata": {
    "tags": []
   },
   "outputs": [],
   "source": [
    "browser.find_element_by_css_selector('#input-1557').send_keys('circle0605@naver.com')\n",
    "browser.find_element_by_css_selector('#input-1558').send_keys('507303')"
   ]
  },
  {
   "cell_type": "code",
   "execution_count": 193,
   "id": "ed0a6c71-5dce-48d4-aead-2a165d921098",
   "metadata": {
    "tags": []
   },
   "outputs": [],
   "source": [
    "browser.find_element_by_css_selector('div.login-row.login-row--submit.mt-16.mt-md-20 > button').click()"
   ]
  },
  {
   "cell_type": "markdown",
   "id": "1e32d9b9-e8e3-4263-a8a7-a6bfea633cb3",
   "metadata": {
    "tags": []
   },
   "source": [
    "### 안과후기 리뷰 보기\n",
    "- 안과후기tag : div.header__gnb.justify-center > ul > li:nth-child(2)\n",
    "- 더보기 tag : div.mt-40.mt-md-70 > div > button"
   ]
  },
  {
   "cell_type": "code",
   "execution_count": 194,
   "id": "ea1392d4-fae9-4c71-bc82-f12d992dd892",
   "metadata": {
    "tags": []
   },
   "outputs": [],
   "source": [
    "browser.find_element_by_css_selector('div.header__gnb.justify-center > ul > li:nth-child(2)').click()"
   ]
  },
  {
   "cell_type": "code",
   "execution_count": 174,
   "id": "51b24ca5-6e49-469d-be53-469dc2bce21c",
   "metadata": {
    "tags": []
   },
   "outputs": [],
   "source": [
    "# browser.find_element_by_css_selector('div.mt-40.mt-md-70 > div > button').click() #리뷰더보기 검토"
   ]
  },
  {
   "cell_type": "code",
   "execution_count": 175,
   "id": "6e634e3e-4398-4336-aa10-eefd06d4ed9a",
   "metadata": {
    "tags": []
   },
   "outputs": [],
   "source": [
    "# 리뷰 전체 더보기 : 예외가 발생할 때까지 계속해서 버튼을 클릭(추가 더보기 없을때)\n",
    "while True :\n",
    "    try :\n",
    "        browser.find_element_by_css_selector('div.mt-40.mt-md-70 > div > button').click()\n",
    "    except :\n",
    "        break"
   ]
  },
  {
   "cell_type": "markdown",
   "id": "6ce851fe-733a-4358-9653-b91edf206b91",
   "metadata": {
    "tags": []
   },
   "source": [
    "### 리뷰 내용 가져오기_Single\n",
    "- 작성자, (작성일), 내용, 별점 , 병원명\n",
    "   - 해당 사이트에는 작성일이 게시되어 있지 않아 가져오지 못함\n",
    "- 작성자 tag : .font-size-12.font-size-md-14.grey-a--text.ml-6\n",
    "- 작성내용 tag :  a > div.v-card__text.d-flex.flex-column.px-16.py-20.px-md-26.py-md-36 > div.row.no-gutters.justify-space-between > div > div.d-flex.flex-column.v-card--default__content > div:nth-child(2) > div > div.col.content-area-before-text > div\n",
    "- 별점 tag : \n",
    "- 병원명 tag : div.pt-8.pt-md-14.mt-auto.mb-n4 > div > div:nth-child(1) > a > span"
   ]
  },
  {
   "cell_type": "code",
   "execution_count": 195,
   "id": "8fe05c3b-5acf-41f5-8563-279e37902ea5",
   "metadata": {
    "tags": []
   },
   "outputs": [
    {
     "data": {
      "text/plain": [
       "11"
      ]
     },
     "execution_count": 195,
     "metadata": {},
     "output_type": "execute_result"
    }
   ],
   "source": [
    "review_bundle = browser.find_elements_by_css_selector('#contents > div.container > div:nth-child(4) > div > div')\n",
    "len(review_bundle)"
   ]
  },
  {
   "cell_type": "code",
   "execution_count": 196,
   "id": "c29966da-56be-46c4-b86b-1f0c272e8af4",
   "metadata": {
    "tags": []
   },
   "outputs": [],
   "source": [
    "review_author = review_bundle[1].find_element_by_css_selector('.font-size-12.font-size-md-14.grey-a--text.ml-6').text\n",
    "review_content = review_bundle[1].find_element_by_css_selector('a > div.v-card__text.d-flex.flex-column.px-16.py-20.px-md-26.py-md-36 > div.row.no-gutters.justify-space-between > div > div.d-flex.flex-column.v-card--default__content > div:nth-child(2) > div > div.col.content-area-before-text > div').text\n",
    "review_hospital = review_bundle[1].find_element_by_css_selector('div.pt-8.pt-md-14.mt-auto.mb-n4 > div > div:nth-child(1) > a > span').text"
   ]
  },
  {
   "cell_type": "code",
   "execution_count": 197,
   "id": "7774c347-2e72-47de-b000-a290c7f972cc",
   "metadata": {
    "tags": []
   },
   "outputs": [
    {
     "data": {
      "text/plain": [
       "['뛰는 곰님',\n",
       " '시력이 자꾸 안좋아지는것 같아 지인소개로 갔는데 병원 리모델링 이사로 깨끗했어요. 간호사 분들도 친절하시고 \\n선생님도. 꼼꼼히 봐주시고 시력 교정 까지. 잘 봐주셨어요\\n맞는약까지 처방 잘해주시고 만족 입니다',\n",
       " '우리안과의원']"
      ]
     },
     "execution_count": 197,
     "metadata": {},
     "output_type": "execute_result"
    }
   ],
   "source": [
    "[review_author,review_content, review_hospital]"
   ]
  },
  {
   "cell_type": "markdown",
   "id": "41ca1e34-dd7d-48f4-9375-bcd8a75df51d",
   "metadata": {
    "tags": []
   },
   "source": [
    "### 전체 리뷰 가져오기"
   ]
  },
  {
   "cell_type": "code",
   "execution_count": 199,
   "id": "da3e52f7-7e5b-4652-81c4-27e39a7e03aa",
   "metadata": {
    "tags": []
   },
   "outputs": [
    {
     "ename": "NoSuchWindowException",
     "evalue": "Message: no such window: target window already closed\nfrom unknown error: web view not found\n  (Session info: chrome=116.0.5845.180)\n",
     "output_type": "error",
     "traceback": [
      "\u001b[1;31m---------------------------------------------------------------------------\u001b[0m",
      "\u001b[1;31mNoSuchWindowException\u001b[0m                     Traceback (most recent call last)",
      "Cell \u001b[1;32mIn[199], line 6\u001b[0m\n\u001b[0;32m      2\u001b[0m reviews_list \u001b[38;5;241m=\u001b[39m \u001b[38;5;28mlist\u001b[39m()\n\u001b[0;32m      4\u001b[0m \u001b[38;5;28;01mfor\u001b[39;00m review_bundle \u001b[38;5;129;01min\u001b[39;00m reviews_bundle:\n\u001b[0;32m      5\u001b[0m     \u001b[38;5;66;03m# 작성자 가져오기\u001b[39;00m\n\u001b[1;32m----> 6\u001b[0m     review_author_element \u001b[38;5;241m=\u001b[39m review_bundle\u001b[38;5;241m.\u001b[39mfind_element_by_css_selector(\u001b[38;5;124m'\u001b[39m\u001b[38;5;124m.font-size-12.font-size-md-14.grey-a--text.ml-6\u001b[39m\u001b[38;5;124m'\u001b[39m)\n\u001b[0;32m      7\u001b[0m     review_author \u001b[38;5;241m=\u001b[39m review_author_element\u001b[38;5;241m.\u001b[39mtext\n\u001b[0;32m      9\u001b[0m     \u001b[38;5;66;03m# 리뷰 내용 가져오기\u001b[39;00m\n",
      "File \u001b[1;32m~\\anaconda3\\Lib\\site-packages\\selenium\\webdriver\\remote\\webelement.py:430\u001b[0m, in \u001b[0;36mWebElement.find_element_by_css_selector\u001b[1;34m(self, css_selector)\u001b[0m\n\u001b[0;32m    415\u001b[0m \u001b[38;5;28;01mdef\u001b[39;00m \u001b[38;5;21mfind_element_by_css_selector\u001b[39m(\u001b[38;5;28mself\u001b[39m, css_selector):\n\u001b[0;32m    416\u001b[0m \u001b[38;5;250m    \u001b[39m\u001b[38;5;124;03m\"\"\"Finds element within this element's children by CSS selector.\u001b[39;00m\n\u001b[0;32m    417\u001b[0m \n\u001b[0;32m    418\u001b[0m \u001b[38;5;124;03m    :Args:\u001b[39;00m\n\u001b[1;32m   (...)\u001b[0m\n\u001b[0;32m    428\u001b[0m \u001b[38;5;124;03m        element = element.find_element_by_css_selector('#foo')\u001b[39;00m\n\u001b[0;32m    429\u001b[0m \u001b[38;5;124;03m    \"\"\"\u001b[39;00m\n\u001b[1;32m--> 430\u001b[0m     \u001b[38;5;28;01mreturn\u001b[39;00m \u001b[38;5;28mself\u001b[39m\u001b[38;5;241m.\u001b[39mfind_element(by\u001b[38;5;241m=\u001b[39mBy\u001b[38;5;241m.\u001b[39mCSS_SELECTOR, value\u001b[38;5;241m=\u001b[39mcss_selector)\n",
      "File \u001b[1;32m~\\anaconda3\\Lib\\site-packages\\selenium\\webdriver\\remote\\webelement.py:658\u001b[0m, in \u001b[0;36mWebElement.find_element\u001b[1;34m(self, by, value)\u001b[0m\n\u001b[0;32m    655\u001b[0m         by \u001b[38;5;241m=\u001b[39m By\u001b[38;5;241m.\u001b[39mCSS_SELECTOR\n\u001b[0;32m    656\u001b[0m         value \u001b[38;5;241m=\u001b[39m \u001b[38;5;124m'\u001b[39m\u001b[38;5;124m[name=\u001b[39m\u001b[38;5;124m\"\u001b[39m\u001b[38;5;132;01m%s\u001b[39;00m\u001b[38;5;124m\"\u001b[39m\u001b[38;5;124m]\u001b[39m\u001b[38;5;124m'\u001b[39m \u001b[38;5;241m%\u001b[39m value\n\u001b[1;32m--> 658\u001b[0m \u001b[38;5;28;01mreturn\u001b[39;00m \u001b[38;5;28mself\u001b[39m\u001b[38;5;241m.\u001b[39m_execute(Command\u001b[38;5;241m.\u001b[39mFIND_CHILD_ELEMENT,\n\u001b[0;32m    659\u001b[0m                      {\u001b[38;5;124m\"\u001b[39m\u001b[38;5;124musing\u001b[39m\u001b[38;5;124m\"\u001b[39m: by, \u001b[38;5;124m\"\u001b[39m\u001b[38;5;124mvalue\u001b[39m\u001b[38;5;124m\"\u001b[39m: value})[\u001b[38;5;124m'\u001b[39m\u001b[38;5;124mvalue\u001b[39m\u001b[38;5;124m'\u001b[39m]\n",
      "File \u001b[1;32m~\\anaconda3\\Lib\\site-packages\\selenium\\webdriver\\remote\\webelement.py:633\u001b[0m, in \u001b[0;36mWebElement._execute\u001b[1;34m(self, command, params)\u001b[0m\n\u001b[0;32m    631\u001b[0m     params \u001b[38;5;241m=\u001b[39m {}\n\u001b[0;32m    632\u001b[0m params[\u001b[38;5;124m'\u001b[39m\u001b[38;5;124mid\u001b[39m\u001b[38;5;124m'\u001b[39m] \u001b[38;5;241m=\u001b[39m \u001b[38;5;28mself\u001b[39m\u001b[38;5;241m.\u001b[39m_id\n\u001b[1;32m--> 633\u001b[0m \u001b[38;5;28;01mreturn\u001b[39;00m \u001b[38;5;28mself\u001b[39m\u001b[38;5;241m.\u001b[39m_parent\u001b[38;5;241m.\u001b[39mexecute(command, params)\n",
      "File \u001b[1;32m~\\anaconda3\\Lib\\site-packages\\selenium\\webdriver\\remote\\webdriver.py:321\u001b[0m, in \u001b[0;36mWebDriver.execute\u001b[1;34m(self, driver_command, params)\u001b[0m\n\u001b[0;32m    319\u001b[0m response \u001b[38;5;241m=\u001b[39m \u001b[38;5;28mself\u001b[39m\u001b[38;5;241m.\u001b[39mcommand_executor\u001b[38;5;241m.\u001b[39mexecute(driver_command, params)\n\u001b[0;32m    320\u001b[0m \u001b[38;5;28;01mif\u001b[39;00m response:\n\u001b[1;32m--> 321\u001b[0m     \u001b[38;5;28mself\u001b[39m\u001b[38;5;241m.\u001b[39merror_handler\u001b[38;5;241m.\u001b[39mcheck_response(response)\n\u001b[0;32m    322\u001b[0m     response[\u001b[38;5;124m'\u001b[39m\u001b[38;5;124mvalue\u001b[39m\u001b[38;5;124m'\u001b[39m] \u001b[38;5;241m=\u001b[39m \u001b[38;5;28mself\u001b[39m\u001b[38;5;241m.\u001b[39m_unwrap_value(\n\u001b[0;32m    323\u001b[0m         response\u001b[38;5;241m.\u001b[39mget(\u001b[38;5;124m'\u001b[39m\u001b[38;5;124mvalue\u001b[39m\u001b[38;5;124m'\u001b[39m, \u001b[38;5;28;01mNone\u001b[39;00m))\n\u001b[0;32m    324\u001b[0m     \u001b[38;5;28;01mreturn\u001b[39;00m response\n",
      "File \u001b[1;32m~\\anaconda3\\Lib\\site-packages\\selenium\\webdriver\\remote\\errorhandler.py:242\u001b[0m, in \u001b[0;36mErrorHandler.check_response\u001b[1;34m(self, response)\u001b[0m\n\u001b[0;32m    240\u001b[0m         alert_text \u001b[38;5;241m=\u001b[39m value[\u001b[38;5;124m'\u001b[39m\u001b[38;5;124malert\u001b[39m\u001b[38;5;124m'\u001b[39m]\u001b[38;5;241m.\u001b[39mget(\u001b[38;5;124m'\u001b[39m\u001b[38;5;124mtext\u001b[39m\u001b[38;5;124m'\u001b[39m)\n\u001b[0;32m    241\u001b[0m     \u001b[38;5;28;01mraise\u001b[39;00m exception_class(message, screen, stacktrace, alert_text)\n\u001b[1;32m--> 242\u001b[0m \u001b[38;5;28;01mraise\u001b[39;00m exception_class(message, screen, stacktrace)\n",
      "\u001b[1;31mNoSuchWindowException\u001b[0m: Message: no such window: target window already closed\nfrom unknown error: web view not found\n  (Session info: chrome=116.0.5845.180)\n"
     ]
    }
   ],
   "source": [
    "## 전체 리뷰 가져오기 위한 looping\n",
    "reviews_list = list()\n",
    "\n",
    "for review_bundle in reviews_bundle:\n",
    "    # 작성자 가져오기\n",
    "    review_author_element = review_bundle.find_element_by_css_selector('.font-size-12.font-size-md-14.grey-a--text.ml-6')\n",
    "    review_author = review_author_element.text\n",
    "    \n",
    "    # 리뷰 내용 가져오기\n",
    "    review_content_element = review_bundle.find_element_by_css_selector('a > div.v-card__text.d-flex.flex-column.px-16.py-20.px-md-26.py-md-36 > div.row.no-gutters.justify-space-between > div > div.d-flex.flex-column.v-card--default__content > div:nth-child(2) > div > div.col.content-area-before-text > div')\n",
    "    review_content = review_content_element.text\n",
    "    \n",
    "    # 리뷰 정보를 리스트로 저장\n",
    "    review_list = [review_author, review_content]\n",
    "    reviews_list.append(review_list)\n",
    "\n",
    "# 리뷰 리스트의 길이 출력\n",
    "print(len(reviews_list))"
   ]
  },
  {
   "cell_type": "code",
   "execution_count": null,
   "id": "4be05832-d41f-49fa-bca6-b100c64f813b",
   "metadata": {},
   "outputs": [],
   "source": []
  },
  {
   "cell_type": "code",
   "execution_count": 98,
   "id": "e19c3b53-e733-4945-a790-239a987e66ad",
   "metadata": {
    "tags": []
   },
   "outputs": [
    {
     "data": {
      "text/plain": [
       "(list, selenium.webdriver.remote.webelement.WebElement)"
      ]
     },
     "execution_count": 98,
     "metadata": {},
     "output_type": "execute_result"
    }
   ],
   "source": [
    "review_hospital = browser.find_elements_by_css_selector('div.pt-8.pt-md-14.mt-auto.mb-n4 > div > div:nth-child(1) > a > span')\n",
    "type(review_hospital), type(review_hospital[0])"
   ]
  },
  {
   "cell_type": "code",
   "execution_count": 99,
   "id": "5882c83b-9083-498a-82aa-d08b2f3fd606",
   "metadata": {
    "tags": []
   },
   "outputs": [
    {
     "data": {
      "text/plain": [
       "['',\n",
       " '',\n",
       " '',\n",
       " '',\n",
       " '지에스안과의원(GS안과)',\n",
       " '카이안과의원',\n",
       " '',\n",
       " '',\n",
       " '',\n",
       " '',\n",
       " '',\n",
       " '',\n",
       " '명지더봄안과의원',\n",
       " '밝은빛안과의원',\n",
       " '아이숲안과의원',\n",
       " '온누리안과의원',\n",
       " '서울다봄안과의원',\n",
       " '드림서울안과의원',\n",
       " '명동안과의원',\n",
       " '김앤김안과의원',\n",
       " '연세봄안과의원',\n",
       " '연세봄안과의원']"
      ]
     },
     "execution_count": 99,
     "metadata": {},
     "output_type": "execute_result"
    }
   ],
   "source": [
    "# 리뷰 병원 이름 리스트\n",
    "review_hospital_list = []\n",
    "for review_hospital in review_hospital :\n",
    "    review_hospital_list.append(review_hospital.text)\n",
    "\n",
    "review_hospital_list"
   ]
  },
  {
   "cell_type": "code",
   "execution_count": null,
   "id": "4588183a-5ee8-4920-ac2f-31fad270f562",
   "metadata": {},
   "outputs": [],
   "source": []
  }
 ],
 "metadata": {
  "kernelspec": {
   "display_name": "Python 3 (ipykernel)",
   "language": "python",
   "name": "python3"
  },
  "language_info": {
   "codemirror_mode": {
    "name": "ipython",
    "version": 3
   },
   "file_extension": ".py",
   "mimetype": "text/x-python",
   "name": "python",
   "nbconvert_exporter": "python",
   "pygments_lexer": "ipython3",
   "version": "3.11.3"
  }
 },
 "nbformat": 4,
 "nbformat_minor": 5
}
