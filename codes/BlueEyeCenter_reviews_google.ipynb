{
 "cells": [
  {
   "cell_type": "markdown",
   "id": "f1361f96-1acc-4c12-b0c1-179fe3c9ef0e",
   "metadata": {},
   "source": [
    "## 푸른세상안과의원(BlueEyeCenter) 리뷰 구글에서\n",
    "- 스마일라식라섹, 노안백내장, 드림렌즈"
   ]
  },
  {
   "cell_type": "code",
   "execution_count": 1,
   "id": "8adad553-4d44-4fbd-8500-068492e8af9a",
   "metadata": {
    "tags": []
   },
   "outputs": [],
   "source": [
    "from selenium import webdriver"
   ]
  },
  {
   "cell_type": "code",
   "execution_count": 2,
   "id": "905a779c-c546-4ca4-9c47-79547d66f7dc",
   "metadata": {
    "tags": []
   },
   "outputs": [],
   "source": [
    "import pandas as pd"
   ]
  },
  {
   "cell_type": "code",
   "execution_count": 3,
   "id": "dad284dd-c9ee-4af5-b620-5d774e741ad1",
   "metadata": {
    "tags": []
   },
   "outputs": [],
   "source": [
    "#open chrome browser\n",
    "options = webdriver.ChromeOptions()\n",
    "options.add_argument(\"--window-size=1560,960\")\n",
    "browser = webdriver.Chrome(executable_path='../../chromedriver.exe', options=options) #webdriver_selenium과 web을 연결해주기위함. "
   ]
  },
  {
   "cell_type": "code",
   "execution_count": 4,
   "id": "24a7c5a4-6d6c-4bcf-9593-a38bf3e27f17",
   "metadata": {
    "tags": []
   },
   "outputs": [],
   "source": [
    "# url in address window\n",
    "browser.get('https://www.google.com/search?q=%ED%91%B8%EB%A5%B8%EC%84%B8%EC%83%81%EC%95%88%EA%B3%BC%EC%9D%B8%EC%B2%9C&oq=%ED%91%B8%EB%A5%B8%EC%84%B8%EC%83%81%EC%95%88%EA%B3%BC%EC%9D%B8%EC%B2%9C&aqs=chrome..69i57j69i60l2.4216j1j7&sourceid=chrome&ie=UTF-8')\n",
    "browser.implicitly_wait(10)"
   ]
  },
  {
   "cell_type": "markdown",
   "id": "0cf76343-dbcc-470f-a035-ab54adedc0fc",
   "metadata": {},
   "source": [
    "### 리뷰 내용 가져오기_single\n",
    "- scroll: #reviewSort scroll 하면 생기는 부분 :  #reviewSort > div\n",
    "- 리뷰묶음: #reviewSort > div > div.gws-localreviews__general-reviews-block > div:nth-child(1) > div.jxjCjc\n",
    "- → div.jxjCjc\n",
    "- 작성자: div.jxjCjc > div:nth-child(1) > div > a\n",
    "- 날짜: #tsuid_LIT-ZOrbIZPS1e8PttWU0Ak_1reviewSort > div:nth-child(2) > div.gws-localreviews__general-reviews-block > div:nth-child(2) > div.jxjCjc > div.gQfZge > div > div:nth-child(1) > div.PuaHbe > span.dehysf.lTi8oc\n",
    "- 내용: #tsuid_LIT-ZOrbIZPS1e8PttWU0Ak_1reviewSort > div:nth-child(2) > div.gws-localreviews__general-reviews-block > div:nth-child(4) > div.jxjCjc > div.gQfZge > div > div:nth-child(1) > div.Jtu6Td > span > span\n",
    "- 별점: #tsuid_LIT-ZOrbIZPS1e8PttWU0Ak_1reviewSort > div:nth-child(2) > div.gws-localreviews__general-reviews-block > div:nth-child(1) > div.jxjCjc > div.gQfZge > div > div:nth-child(1) > div.PuaHbe > span.lTi8oc.z3HNkc\n",
    "- 병원명: #akp_tsuid_11 > div > div:nth-child(1) > div > g-sticky-content-container > div > block-component > div > div.dG2XIf.knowledge-panel.Wnoohf.OJXvsb > div > div > div > div.ifM9O > div > div > div.kp-header > div > div.Hhmu2e.wDYxhc.NFQFxe.viOShc.LKPcQc > div > div > h2 > span"
   ]
  },
  {
   "cell_type": "code",
   "execution_count": 5,
   "id": "bb7cc2c4-2072-4c80-8f51-1cca21fbf7f0",
   "metadata": {
    "tags": []
   },
   "outputs": [],
   "source": [
    "## 리뷰 클릭\n",
    "review_element='div:nth-child(2) > div > div > span.hqzQac' \n",
    "review_list=browser.find_element_by_css_selector(review_element)\n",
    "review_list.click()"
   ]
  },
  {
   "cell_type": "code",
   "execution_count": 6,
   "id": "9949af01-e4e0-4960-8cf0-c215ca9b3e68",
   "metadata": {
    "tags": []
   },
   "outputs": [],
   "source": [
    "import time\n",
    "time.sleep(2)\n",
    "from selenium.webdriver.common.keys import Keys"
   ]
  },
  {
   "cell_type": "code",
   "execution_count": 13,
   "id": "18c459f3-bfaa-4552-ba68-90c1c6aa39ca",
   "metadata": {
    "tags": []
   },
   "outputs": [
    {
     "ename": "NameError",
     "evalue": "name 'driver' is not defined",
     "output_type": "error",
     "traceback": [
      "\u001b[1;31m---------------------------------------------------------------------------\u001b[0m",
      "\u001b[1;31mNameError\u001b[0m                                 Traceback (most recent call last)",
      "Cell \u001b[1;32mIn[13], line 6\u001b[0m\n\u001b[0;32m      4\u001b[0m \u001b[38;5;66;03m# 원하는 수만큼 스크롤\u001b[39;00m\n\u001b[0;32m      5\u001b[0m \u001b[38;5;28;01mwhile\u001b[39;00m scroll_count \u001b[38;5;241m<\u001b[39m \u001b[38;5;241m10\u001b[39m:  \u001b[38;5;66;03m# 10번 스크롤 예제\u001b[39;00m\n\u001b[1;32m----> 6\u001b[0m     driver\u001b[38;5;241m.\u001b[39mfind_element_by_css_selector(\u001b[38;5;124m\"\u001b[39m\u001b[38;5;124m#gsr\u001b[39m\u001b[38;5;124m\"\u001b[39m)\u001b[38;5;241m.\u001b[39msend_keys(Keys\u001b[38;5;241m.\u001b[39mPAGE_DOWN)  \u001b[38;5;66;03m# 페이지 다운 키 입력\u001b[39;00m\n\u001b[0;32m      7\u001b[0m     time\u001b[38;5;241m.\u001b[39msleep(\u001b[38;5;241m2\u001b[39m)  \u001b[38;5;66;03m# 스크롤 후 대기 시간 (초) 조절 가능\u001b[39;00m\n\u001b[0;32m      8\u001b[0m     scroll_count \u001b[38;5;241m+\u001b[39m\u001b[38;5;241m=\u001b[39m \u001b[38;5;241m1\u001b[39m\n",
      "\u001b[1;31mNameError\u001b[0m: name 'driver' is not defined"
     ]
    }
   ],
   "source": [
    "# 원하는 위치로 스크롤\n",
    "scroll_count = 0  # 스크롤 횟수 초기화\n",
    "\n",
    "# 원하는 수만큼 스크롤\n",
    "while scroll_count < 10:  # 10번 스크롤 예제\n",
    "    driver.find_element_by_css_selector(\"#gsr\").send_keys(Keys.PAGE_DOWN)  # 페이지 다운 키 입력\n",
    "    time.sleep(2)  # 스크롤 후 대기 시간 (초) 조절 가능\n",
    "    scroll_count += 1\n",
    "\n",
    "# 원하는 요소에 접근하여 데이터 추출\n",
    "reviews = driver.find_elements_by_css_selector(\"#reviewSort div div.gws-localreviews__general-reviews-block\")\n",
    "\n",
    "for review in reviews:\n",
    "    # 추출한 데이터를 처리하는 코드 작성\n",
    "    print(review.text)"
   ]
  },
  {
   "cell_type": "code",
   "execution_count": null,
   "id": "942a1c38-342c-4c8f-a3f1-afaf7ebb3816",
   "metadata": {},
   "outputs": [],
   "source": [
    "#gws-localreviews__arl\n",
    "#tsuid_Q_f_ZNf3NMOl2roPyLa1-Ac_1reviewSort\n",
    "async-ei=\"hvj_ZK6GLMmSoATRm7P4Cw\""
   ]
  },
  {
   "cell_type": "code",
   "execution_count": 9,
   "id": "d902431e-53ae-444e-be5b-b8c040d4fd96",
   "metadata": {
    "tags": []
   },
   "outputs": [],
   "source": [
    "# ## 스크롤를 해야 리뷰가 다 보임_chat에게 물어보기. \n",
    "# # 페이지 아래로 스크롤해서 모든 리뷰 로드\n",
    "# scroll_pause_time = 10  # 스크롤 간격을 조절할 수 있습니다. 필요에 따라 조정하세요.\n",
    "# while True:\n",
    "#     # 스크롤 이벤트를 JavaScript로 실행\n",
    "#     browser.execute_script(\"window.scrollTo(0, document.body.scrollHeight);\")\n",
    "#     time.sleep(scroll_pause_time)\n",
    "\n",
    "#     # 스크롤이 더 이상 되지 않을 때 (더 이상 리뷰가 로드되지 않을 때) 반복 종료\n",
    "#     if len(browser.find_elements_by_css_selector('#tsuid_BZX-ZKnxJYb-hwP_3Z34BQ_1reviewSort > div')) == 0:\n",
    "#         break"
   ]
  },
  {
   "cell_type": "markdown",
   "id": "9877725e-7156-4767-9fe5-2b3a755c1aaf",
   "metadata": {},
   "source": [
    "### 리뷰 내용 가져오기_single\n",
    "- 리뷰묶음: #tsuid_LIT-ZOrbIZPS1e8PttWU0Ak_1reviewSort > div:nth-child(2) > div.gws-localreviews__general-reviews-block > div\n",
    "- div:nth-child(2) > div.gws-localreviews__general-reviews-block > div\n",
    "- 작성자: div.jxjCjc > div:nth-child(1) > div > a\n",
    "- 날짜: #tsuid_LIT-ZOrbIZPS1e8PttWU0Ak_1reviewSort > div:nth-child(2) > div.gws-localreviews__general-reviews-block > div:nth-child(2) > div.jxjCjc > div.gQfZge > div > div:nth-child(1) > div.PuaHbe > span.dehysf.lTi8oc\n",
    "- 내용: #tsuid_LIT-ZOrbIZPS1e8PttWU0Ak_1reviewSort > div:nth-child(2) > div.gws-localreviews__general-reviews-block > div:nth-child(4) > div.jxjCjc > div.gQfZge > div > div:nth-child(1) > div.Jtu6Td > span > span\n",
    "- 별점: #tsuid_LIT-ZOrbIZPS1e8PttWU0Ak_1reviewSort > div:nth-child(2) > div.gws-localreviews__general-reviews-block > div:nth-child(1) > div.jxjCjc > div.gQfZge > div > div:nth-child(1) > div.PuaHbe > span.lTi8oc.z3HNkc\n",
    "- 병원명: #akp_tsuid_11 > div > div:nth-child(1) > div > g-sticky-content-container > div > block-component > div > div.dG2XIf.knowledge-panel.Wnoohf.OJXvsb > div > div > div > div.ifM9O > div > div > div.kp-header > div > div.Hhmu2e.wDYxhc.NFQFxe.viOShc.LKPcQc > div > div > h2 > span\n"
   ]
  },
  {
   "cell_type": "code",
   "execution_count": 10,
   "id": "102c2892-7aa3-4adb-8d97-5107d0d293c2",
   "metadata": {
    "tags": []
   },
   "outputs": [
    {
     "data": {
      "text/plain": [
       "10"
      ]
     },
     "execution_count": 10,
     "metadata": {},
     "output_type": "execute_result"
    }
   ],
   "source": [
    "reviews_bundle = browser.find_elements_by_css_selector('div.jxjCjc')\n",
    "len(reviews_bundle)"
   ]
  },
  {
   "cell_type": "code",
   "execution_count": 11,
   "id": "0124de49-aa11-4972-a065-08c28e59f733",
   "metadata": {
    "tags": []
   },
   "outputs": [],
   "source": [
    "writer = reviews_bundle[1].find_element_by_css_selector(' div.jxjCjc > div:nth-child(1) > div > a').text\n",
    "date = reviews_bundle[1].find_element_by_css_selector(' div.jxjCjc > div.gQfZge > div > div:nth-child(1) > div.PuaHbe > span.dehysf.lTi8oc').text\n",
    "content = reviews_bundle[1].find_element_by_css_selector(' div.jxjCjc > div.gQfZge > div > div:nth-child(1) > div.Jtu6Td').text\n",
    "stars = reviews_bundle[1].find_element_by_css_selector(' div.jxjCjc > div.gQfZge > div > div:nth-child(1) > div.PuaHbe > span.lTi8oc.z3HNkc').get_attribute('aria-label')\n",
    "hospital = browser.find_element_by_css_selector('div > div.Hhmu2e.wDYxhc.NFQFxe.viOShc.LKPcQc > div > div > h2 > span').text"
   ]
  },
  {
   "cell_type": "code",
   "execution_count": 12,
   "id": "c9130c31-23fb-46f2-9f21-2d4c2c6d305f",
   "metadata": {
    "tags": []
   },
   "outputs": [
    {
     "data": {
      "text/plain": [
       "['박혜린',\n",
       " '6달 전',\n",
       " '병원 대기하는 곳은 굉장히 편안하고 수술실은 엄청 깔끔해서 좋았습니다! 검사 기기도 정말 많고 신속하게 검사할 수 있어서 좋았어요ㅎㅎ 스마일라식 겁났는데 수술 전에도 친절하게 설명해주시고 수술 내내 남은 시간 초 세어주시고 해서 성공적으로 수술 된 것 같아요!! 감사합니다',\n",
       " '별 5개 중 5.0개',\n",
       " '푸른세상안과의원 인천본점']"
      ]
     },
     "execution_count": 12,
     "metadata": {},
     "output_type": "execute_result"
    }
   ],
   "source": [
    "[writer, date, content, stars, hospital]"
   ]
  },
  {
   "cell_type": "markdown",
   "id": "0e20643d-e37a-4857-8865-e6f112e0c84e",
   "metadata": {},
   "source": [
    "### looping 돌리기\n",
    "reviews_list = list()\n",
    "for review_bundle in reviews_bundle :\n",
    "    content = review_bundle.find_element_by_css_selector('div.h3YV2d').text ##bundle에서 0번째 가져옴?\n",
    "    date = review_bundle.find_element_by_css_selector('header > div.Jx4nYe > span').text \n",
    "    stars = review_bundle.find_element_by_css_selector('header > div.Jx4nYe > div').get_attribute('aria-label')\n",
    "    review_list = [content, date, stars] # 한개씩 나옴 = record 1개씩 나옴\n",
    "    reviews_list.append(review_list) ## 리뷰에 대한 모든 record들이 담김.\n",
    "    \n",
    "len(reviews_list)"
   ]
  },
  {
   "cell_type": "code",
   "execution_count": 13,
   "id": "cc85d557-7b91-4cc1-b42f-1465e452d5f3",
   "metadata": {
    "tags": []
   },
   "outputs": [],
   "source": [
    "reviews_list = list()"
   ]
  },
  {
   "cell_type": "code",
   "execution_count": 14,
   "id": "b1269ea1-6a0d-4a27-a03f-f380ea2ccb08",
   "metadata": {
    "tags": []
   },
   "outputs": [
    {
     "data": {
      "text/plain": [
       "10"
      ]
     },
     "execution_count": 14,
     "metadata": {},
     "output_type": "execute_result"
    }
   ],
   "source": [
    "for review_bundle in reviews_bundle :\n",
    "    writer = review_bundle.find_element_by_css_selector(' div.jxjCjc > div:nth-child(1) > div > a').text\n",
    "    date = review_bundle.find_element_by_css_selector(' div.jxjCjc > div.gQfZge > div > div:nth-child(1) > div.PuaHbe > span.dehysf.lTi8oc').text\n",
    "    content = review_bundle.find_element_by_css_selector(' div.jxjCjc > div.gQfZge > div > div:nth-child(1) > div.Jtu6Td').text\n",
    "    stars = review_bundle.find_element_by_css_selector(' div.jxjCjc > div.gQfZge > div > div:nth-child(1) > div.PuaHbe > span.lTi8oc.z3HNkc').get_attribute('aria-label')\n",
    "    hospital = browser.find_element_by_css_selector('div > div.Hhmu2e.wDYxhc.NFQFxe.viOShc.LKPcQc > div > div > h2 > span').text\n",
    "    review_list = [writer, date, content, stars, hospital] # 한개씩 나옴 = record 1개씩 나옴\n",
    "    reviews_list.append(review_list) ## 리뷰에 대한 모든 record들이 담김.\n",
    "    \n",
    "len(reviews_list)"
   ]
  },
  {
   "cell_type": "code",
   "execution_count": null,
   "id": "45d70a70-8dc6-4b43-a0af-6e0400492273",
   "metadata": {},
   "outputs": [],
   "source": []
  }
 ],
 "metadata": {
  "kernelspec": {
   "display_name": "Python 3 (ipykernel)",
   "language": "python",
   "name": "python3"
  },
  "language_info": {
   "codemirror_mode": {
    "name": "ipython",
    "version": 3
   },
   "file_extension": ".py",
   "mimetype": "text/x-python",
   "name": "python",
   "nbconvert_exporter": "python",
   "pygments_lexer": "ipython3",
   "version": "3.11.3"
  }
 },
 "nbformat": 4,
 "nbformat_minor": 5
}
